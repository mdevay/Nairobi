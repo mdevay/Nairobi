{
 "cells": [
  {
   "cell_type": "code",
   "execution_count": 1,
   "metadata": {},
   "outputs": [],
   "source": [
    "import pandas as pd\n",
    "import requests\n",
    "from bs4 import BeautifulSoup\n",
    "from time import sleep\n",
    "\n",
    "from selenium import webdriver\n",
    "\n",
    "url = 'https://www.buyrentkenya.com/flats-apartments-for-sale/nairobi'"
   ]
  },
  {
   "cell_type": "code",
   "execution_count": 2,
   "metadata": {},
   "outputs": [],
   "source": [
    "driver = webdriver.Chrome()"
   ]
  },
  {
   "cell_type": "code",
   "execution_count": 3,
   "metadata": {},
   "outputs": [],
   "source": [
    "driver.get(url)"
   ]
  },
  {
   "cell_type": "code",
   "execution_count": 4,
   "metadata": {},
   "outputs": [],
   "source": [
    "soup = BeautifulSoup(driver.page_source)"
   ]
  },
  {
   "cell_type": "code",
   "execution_count": 5,
   "metadata": {},
   "outputs": [],
   "source": [
    "# # get prices\n",
    "# for i in soup.find_all('a', {'class': 'item-price'})[:10]:\n",
    "#     print(int(i.text.split()[1].replace(',','')))\n",
    "\n",
    "# # get bedrooms\n",
    "# for i in soup.find_all('span', {'class': 'h-beds'})[:10]:\n",
    "#     print(i.text)\n",
    "\n",
    "# # get location\n",
    "# for i in soup.find_all('div', {'class': 'property-location'})[:10]:\n",
    "#     print(i.text)\n",
    "\n",
    "# # get listing type\n",
    "# for i in soup.find_all('i', {'class': 'fa fa-heart listing-favourite'})[:10]:\n",
    "#     print(i.attrs['data-t-listing_type'])\n",
    "\n",
    "# # get listing category\n",
    "# for i in soup.find_all('i', {'class': 'fa fa-heart listing-favourite'})[:10]:\n",
    "#     print(i.attrs['data-t-listing_category'])"
   ]
  },
  {
   "cell_type": "code",
   "execution_count": 6,
   "metadata": {},
   "outputs": [],
   "source": [
    "# sleep(5)\n",
    "# for row in soup.find_all('div', {'class': 'result-card-item mt-2 mb-3'}):\n",
    "#         loc = row.find('div', {'class': 'property-location'}).text.split(',')\n",
    "#         # Adapted from Matt's code to separate into district, neighborhood, and street\n",
    "#         print(loc[-1].strip())\n",
    "#         try:\n",
    "#             print(loc[-2].strip())\n",
    "#         except:\n",
    "#             print(None)\n",
    "#         try:\n",
    "#             print(loc[-3].strip())\n",
    "#         except:\n",
    "#             print(None)\n",
    "#         beds = row.find('span', {'class': 'h-beds'}).text.strip()\n",
    "#         list_type = row.find('i', {'class': 'fa fa-heart listing-favourite'}).attrs['data-t-listing_type']\n",
    "#         category = row.find('i', {'class': 'fa fa-heart listing-favourite'}).attrs['data-t-listing_category']\n",
    "#         price = row.find('a', {'class': 'item-price'}).text.split()[1].replace(',','')\n",
    "#         print(beds)\n",
    "#         print(list_type)\n",
    "#         print(category)\n",
    "#         print(price)\n",
    "#         print()\n",
    "        \n",
    "        "
   ]
  },
  {
   "cell_type": "code",
   "execution_count": 7,
   "metadata": {},
   "outputs": [],
   "source": [
    "# <div class=\"result-card-item mt-2 mb-3 \" id=\"3432035\" data-mandatetype=\"2\">\n",
    "\n",
    "def house_grabber(soup, df):\n",
    "    for row in soup.find_all('div', {'class': 'result-card-item mt-2 mb-3'}):\n",
    "        loc = row.find('div', {'class': 'property-location'}).text.split(',')\n",
    "        \n",
    "        # Adapted from Matt's code to separate into district, neighborhood, and street\n",
    "        district = loc[-1].strip()\n",
    "        try:\n",
    "            neighborhood = loc[-2].strip()\n",
    "        except:\n",
    "            neighborhood = 'None'\n",
    "        try:\n",
    "            street = loc[-3].strip()\n",
    "        except:\n",
    "            street = 'None'\n",
    "        \n",
    "        beds = row.find('span', {'class': 'h-beds'}).text\n",
    "        list_type = row.find('i', {'class': 'fa fa-heart listing-favourite'}).attrs['data-t-listing_type']\n",
    "        category = row.find('i', {'class': 'fa fa-heart listing-favourite'}).attrs['data-t-listing_category']\n",
    "        price = row.find('a', {'class': 'item-price'}).text.split()[1].replace(',','')\n",
    "        \n",
    "        df.loc[len(df)] = [district, neighborhood, street, beds, category, list_type, price]"
   ]
  },
  {
   "cell_type": "code",
   "execution_count": 8,
   "metadata": {},
   "outputs": [
    {
     "name": "stdout",
     "output_type": "stream",
     "text": [
      "next page...\n",
      "next page...\n",
      "next page...\n",
      "next page...\n",
      "next page...\n",
      "next page...\n",
      "next page...\n",
      "next page...\n",
      "next page...\n",
      "next page...\n"
     ]
    },
    {
     "data": {
      "text/html": [
       "<div>\n",
       "<style scoped>\n",
       "    .dataframe tbody tr th:only-of-type {\n",
       "        vertical-align: middle;\n",
       "    }\n",
       "\n",
       "    .dataframe tbody tr th {\n",
       "        vertical-align: top;\n",
       "    }\n",
       "\n",
       "    .dataframe thead th {\n",
       "        text-align: right;\n",
       "    }\n",
       "</style>\n",
       "<table border=\"1\" class=\"dataframe\">\n",
       "  <thead>\n",
       "    <tr style=\"text-align: right;\">\n",
       "      <th></th>\n",
       "      <th>district</th>\n",
       "      <th>neighborhood</th>\n",
       "      <th>street</th>\n",
       "      <th>bedrooms</th>\n",
       "      <th>category</th>\n",
       "      <th>listing_type</th>\n",
       "      <th>price_KES</th>\n",
       "    </tr>\n",
       "  </thead>\n",
       "  <tbody>\n",
       "    <tr>\n",
       "      <th>0</th>\n",
       "      <td>Westlands</td>\n",
       "      <td>Kitisuru</td>\n",
       "      <td>Kibichiku</td>\n",
       "      <td>1</td>\n",
       "      <td>Flat &amp; Apartment</td>\n",
       "      <td>For Sale</td>\n",
       "      <td>2300000</td>\n",
       "    </tr>\n",
       "    <tr>\n",
       "      <th>1</th>\n",
       "      <td>Dagoretti North</td>\n",
       "      <td>Naivasha Road</td>\n",
       "      <td>None</td>\n",
       "      <td>1</td>\n",
       "      <td>Studio</td>\n",
       "      <td>For Sale</td>\n",
       "      <td>2000000</td>\n",
       "    </tr>\n",
       "    <tr>\n",
       "      <th>2</th>\n",
       "      <td>Dagoretti North</td>\n",
       "      <td>Kilimani</td>\n",
       "      <td>Elgeyo Marakwet</td>\n",
       "      <td>3</td>\n",
       "      <td>Flat &amp; Apartment</td>\n",
       "      <td>For Sale</td>\n",
       "      <td>19800000</td>\n",
       "    </tr>\n",
       "    <tr>\n",
       "      <th>3</th>\n",
       "      <td>Dagoretti North</td>\n",
       "      <td>Kileleshwa</td>\n",
       "      <td>Laikipia Road</td>\n",
       "      <td>3</td>\n",
       "      <td>Flat &amp; Apartment</td>\n",
       "      <td>For Sale</td>\n",
       "      <td>12500000</td>\n",
       "    </tr>\n",
       "    <tr>\n",
       "      <th>4</th>\n",
       "      <td>Dagoretti North</td>\n",
       "      <td>Kileleshwa</td>\n",
       "      <td>Othaya Road Kileleshwa</td>\n",
       "      <td>4</td>\n",
       "      <td>Flat &amp; Apartment</td>\n",
       "      <td>For Sale</td>\n",
       "      <td>20500000</td>\n",
       "    </tr>\n",
       "  </tbody>\n",
       "</table>\n",
       "</div>"
      ],
      "text/plain": [
       "          district   neighborhood                  street bedrooms  \\\n",
       "0        Westlands       Kitisuru               Kibichiku        1   \n",
       "1  Dagoretti North  Naivasha Road                    None        1   \n",
       "2  Dagoretti North       Kilimani         Elgeyo Marakwet        3   \n",
       "3  Dagoretti North     Kileleshwa           Laikipia Road        3   \n",
       "4  Dagoretti North     Kileleshwa  Othaya Road Kileleshwa        4   \n",
       "\n",
       "           category listing_type price_KES  \n",
       "0  Flat & Apartment     For Sale   2300000  \n",
       "1            Studio     For Sale   2000000  \n",
       "2  Flat & Apartment     For Sale  19800000  \n",
       "3  Flat & Apartment     For Sale  12500000  \n",
       "4  Flat & Apartment     For Sale  20500000  "
      ]
     },
     "execution_count": 8,
     "metadata": {},
     "output_type": "execute_result"
    }
   ],
   "source": [
    "df_nairobi = pd.DataFrame(columns=['district', 'neighborhood', 'street', 'bedrooms', 'category', 'listing_type', 'price_KES'])\n",
    "\n",
    "for i in range(3): \n",
    "    sleep(5)\n",
    "    soup_object = BeautifulSoup(driver.page_source, 'lxml')\n",
    "    house_grabber(soup_object, df_nairobi)\n",
    "    next_button = driver.find_element_by_link_text('Next')\n",
    "    next_button.click()\n",
    "    print('next page...')\n",
    "\n",
    "driver.close()\n",
    "df_nairobi.head()"
   ]
  },
  {
   "cell_type": "code",
   "execution_count": 9,
   "metadata": {},
   "outputs": [
    {
     "data": {
      "text/plain": [
       "(200, 7)"
      ]
     },
     "execution_count": 9,
     "metadata": {},
     "output_type": "execute_result"
    }
   ],
   "source": [
    "df_nairobi.shape"
   ]
  }
 ],
 "metadata": {
  "kernelspec": {
   "display_name": "Python 3",
   "language": "python",
   "name": "python3"
  },
  "language_info": {
   "codemirror_mode": {
    "name": "ipython",
    "version": 3
   },
   "file_extension": ".py",
   "mimetype": "text/x-python",
   "name": "python",
   "nbconvert_exporter": "python",
   "pygments_lexer": "ipython3",
   "version": "3.6.9"
  }
 },
 "nbformat": 4,
 "nbformat_minor": 2
}
