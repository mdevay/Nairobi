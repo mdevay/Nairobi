{
 "cells": [
  {
   "cell_type": "markdown",
   "metadata": {},
   "source": [
    "# Geocoding Real Estate Listings\n",
    "\n",
    "Code by Matt DeVay"
   ]
  },
  {
   "cell_type": "code",
   "execution_count": 1,
   "metadata": {},
   "outputs": [],
   "source": [
    "# so the first thing is to open the gis dataset:\n",
    "\n",
    "import pandas as pd\n",
    "import numpy as np\n",
    "import requests\n",
    "import string"
   ]
  },
  {
   "cell_type": "markdown",
   "metadata": {},
   "source": [
    "## Here we'll import the data from the webscraping to a pandas datatable"
   ]
  },
  {
   "cell_type": "code",
   "execution_count": 2,
   "metadata": {
    "scrolled": true
   },
   "outputs": [
    {
     "data": {
      "text/html": [
       "<div>\n",
       "<style scoped>\n",
       "    .dataframe tbody tr th:only-of-type {\n",
       "        vertical-align: middle;\n",
       "    }\n",
       "\n",
       "    .dataframe tbody tr th {\n",
       "        vertical-align: top;\n",
       "    }\n",
       "\n",
       "    .dataframe thead th {\n",
       "        text-align: right;\n",
       "    }\n",
       "</style>\n",
       "<table border=\"1\" class=\"dataframe\">\n",
       "  <thead>\n",
       "    <tr style=\"text-align: right;\">\n",
       "      <th></th>\n",
       "      <th>id</th>\n",
       "      <th>category</th>\n",
       "      <th>list_type</th>\n",
       "      <th>beds</th>\n",
       "      <th>baths</th>\n",
       "      <th>sq_ft_price</th>\n",
       "      <th>price_KES</th>\n",
       "      <th>district</th>\n",
       "      <th>neighborhood</th>\n",
       "      <th>street</th>\n",
       "    </tr>\n",
       "  </thead>\n",
       "  <tbody>\n",
       "    <tr>\n",
       "      <th>0</th>\n",
       "      <td>3394167</td>\n",
       "      <td>Flat &amp; Apartment</td>\n",
       "      <td>For Rent</td>\n",
       "      <td>2</td>\n",
       "      <td>None</td>\n",
       "      <td>None</td>\n",
       "      <td>120000</td>\n",
       "      <td>Westlands</td>\n",
       "      <td>Brookside</td>\n",
       "      <td>None</td>\n",
       "    </tr>\n",
       "    <tr>\n",
       "      <th>1</th>\n",
       "      <td>3399035</td>\n",
       "      <td>Flat &amp; Apartment</td>\n",
       "      <td>For Rent</td>\n",
       "      <td>2</td>\n",
       "      <td>None</td>\n",
       "      <td>77</td>\n",
       "      <td>96000</td>\n",
       "      <td>Ridgeways</td>\n",
       "      <td>None</td>\n",
       "      <td>None</td>\n",
       "    </tr>\n",
       "    <tr>\n",
       "      <th>2</th>\n",
       "      <td>3433894</td>\n",
       "      <td>Flat &amp; Apartment</td>\n",
       "      <td>For Rent</td>\n",
       "      <td>2</td>\n",
       "      <td>None</td>\n",
       "      <td>46</td>\n",
       "      <td>70000</td>\n",
       "      <td>Dagoretti North</td>\n",
       "      <td>Valley Arcade</td>\n",
       "      <td>Lavington</td>\n",
       "    </tr>\n",
       "    <tr>\n",
       "      <th>3</th>\n",
       "      <td>3433821</td>\n",
       "      <td>Flat &amp; Apartment</td>\n",
       "      <td>For Rent</td>\n",
       "      <td>2</td>\n",
       "      <td>2</td>\n",
       "      <td>None</td>\n",
       "      <td>200000</td>\n",
       "      <td>Westlands</td>\n",
       "      <td>Westlands Area</td>\n",
       "      <td>Kingfisher Nest</td>\n",
       "    </tr>\n",
       "    <tr>\n",
       "      <th>4</th>\n",
       "      <td>3433777</td>\n",
       "      <td>Flat &amp; Apartment</td>\n",
       "      <td>For Rent</td>\n",
       "      <td>4</td>\n",
       "      <td>None</td>\n",
       "      <td>None</td>\n",
       "      <td>110000</td>\n",
       "      <td>Westlands</td>\n",
       "      <td>Parklands</td>\n",
       "      <td>1St Parklands</td>\n",
       "    </tr>\n",
       "  </tbody>\n",
       "</table>\n",
       "</div>"
      ],
      "text/plain": [
       "        id          category list_type beds baths sq_ft_price price_KES  \\\n",
       "0  3394167  Flat & Apartment  For Rent    2  None        None    120000   \n",
       "1  3399035  Flat & Apartment  For Rent    2  None          77     96000   \n",
       "2  3433894  Flat & Apartment  For Rent    2  None          46     70000   \n",
       "3  3433821  Flat & Apartment  For Rent    2     2        None    200000   \n",
       "4  3433777  Flat & Apartment  For Rent    4  None        None    110000   \n",
       "\n",
       "          district    neighborhood           street  \n",
       "0        Westlands       Brookside             None  \n",
       "1        Ridgeways            None             None  \n",
       "2  Dagoretti North   Valley Arcade        Lavington  \n",
       "3        Westlands  Westlands Area  Kingfisher Nest  \n",
       "4        Westlands       Parklands    1St Parklands  "
      ]
     },
     "execution_count": 2,
     "metadata": {},
     "output_type": "execute_result"
    }
   ],
   "source": [
    "\n",
    "adverts_df = pd.read_csv('./nairobi_all_listings.csv', index_col=False)\n",
    "adverts_df.head()"
   ]
  },
  {
   "cell_type": "code",
   "execution_count": 4,
   "metadata": {
    "scrolled": true
   },
   "outputs": [
    {
     "data": {
      "text/plain": [
       "(4000, 10)"
      ]
     },
     "execution_count": 4,
     "metadata": {},
     "output_type": "execute_result"
    }
   ],
   "source": [
    "adverts_df.shape"
   ]
  },
  {
   "cell_type": "markdown",
   "metadata": {},
   "source": [
    "## Now we can import our API key and create the base URL for API calls"
   ]
  },
  {
   "cell_type": "code",
   "execution_count": 5,
   "metadata": {},
   "outputs": [],
   "source": [
    "with open('../../../google_api.txt') as key:\n",
    "    api_key = '&key=' + key.read()\n",
    "\n",
    "base_url = 'https://maps.googleapis.com/maps/api/geocode/json?address='"
   ]
  },
  {
   "cell_type": "code",
   "execution_count": 6,
   "metadata": {},
   "outputs": [],
   "source": [
    "# Create the new columns we need, and replace NaN and None to 0\n",
    "\n",
    "\n",
    "adverts_df['latitude'] = 0\n",
    "adverts_df['longitude'] = 0\n",
    "adverts_df['clean_grab'] = 0\n",
    "adverts_df.replace('None', 0, inplace=True)\n",
    "adverts_df.fillna(0, inplace=True)"
   ]
  },
  {
   "cell_type": "code",
   "execution_count": 7,
   "metadata": {},
   "outputs": [],
   "source": [
    "# lets create a function that will return the lat and long of a row of the data frame\n",
    "\n",
    "def get_lat_long(row):\n",
    "    lat = 0\n",
    "    long = 0\n",
    "    if row['street']:\n",
    "        address = \"+\".join([row['street'], row['neighborhood'], row['district'], \"Nairobi\"])\n",
    "    elif row['neighborhood']:\n",
    "        address = \"+\".join([row['neighborhood'], row['district'], \"Nairobi\"])\n",
    "    else:\n",
    "        address = row['district'] + \"+Nairobi\"\n",
    "    url = base_url + address + api_key\n",
    "    res = requests.get(url)\n",
    "    if res.json()['status'].lower() == \"ok\":\n",
    "        df = pd.DataFrame(res.json()['results'])\n",
    "        geo = pd.DataFrame(df.loc[0, 'geometry'])\n",
    "        long = geo.loc[\"lng\", \"location\"]\n",
    "        lat = geo.loc[\"lat\", \"location\"]  \n",
    "    clean = res.json()['status']\n",
    "    return lat, long, clean"
   ]
  },
  {
   "cell_type": "code",
   "execution_count": 8,
   "metadata": {},
   "outputs": [
    {
     "data": {
      "text/plain": [
       "(-1.278937, 36.7777984, 'OK')"
      ]
     },
     "execution_count": 8,
     "metadata": {},
     "output_type": "execute_result"
    }
   ],
   "source": [
    "# and test it:\n",
    "\n",
    "lat, long, clean = get_lat_long(adverts_df.loc[313,:])\n",
    "lat, long, clean\n"
   ]
  },
  {
   "cell_type": "code",
   "execution_count": 9,
   "metadata": {
    "scrolled": true
   },
   "outputs": [
    {
     "data": {
      "text/html": [
       "<div>\n",
       "<style scoped>\n",
       "    .dataframe tbody tr th:only-of-type {\n",
       "        vertical-align: middle;\n",
       "    }\n",
       "\n",
       "    .dataframe tbody tr th {\n",
       "        vertical-align: top;\n",
       "    }\n",
       "\n",
       "    .dataframe thead th {\n",
       "        text-align: right;\n",
       "    }\n",
       "</style>\n",
       "<table border=\"1\" class=\"dataframe\">\n",
       "  <thead>\n",
       "    <tr style=\"text-align: right;\">\n",
       "      <th></th>\n",
       "      <th>id</th>\n",
       "      <th>category</th>\n",
       "      <th>list_type</th>\n",
       "      <th>beds</th>\n",
       "      <th>baths</th>\n",
       "      <th>sq_ft_price</th>\n",
       "      <th>price_KES</th>\n",
       "      <th>district</th>\n",
       "      <th>neighborhood</th>\n",
       "      <th>street</th>\n",
       "      <th>latitude</th>\n",
       "      <th>longitude</th>\n",
       "      <th>clean_grab</th>\n",
       "    </tr>\n",
       "  </thead>\n",
       "  <tbody>\n",
       "    <tr>\n",
       "      <th>0</th>\n",
       "      <td>3394167</td>\n",
       "      <td>Flat &amp; Apartment</td>\n",
       "      <td>For Rent</td>\n",
       "      <td>2</td>\n",
       "      <td>0</td>\n",
       "      <td>0</td>\n",
       "      <td>120000</td>\n",
       "      <td>Westlands</td>\n",
       "      <td>Brookside</td>\n",
       "      <td>0</td>\n",
       "      <td>0</td>\n",
       "      <td>0</td>\n",
       "      <td>0</td>\n",
       "    </tr>\n",
       "    <tr>\n",
       "      <th>1</th>\n",
       "      <td>3399035</td>\n",
       "      <td>Flat &amp; Apartment</td>\n",
       "      <td>For Rent</td>\n",
       "      <td>2</td>\n",
       "      <td>0</td>\n",
       "      <td>77</td>\n",
       "      <td>96000</td>\n",
       "      <td>Ridgeways</td>\n",
       "      <td>0</td>\n",
       "      <td>0</td>\n",
       "      <td>0</td>\n",
       "      <td>0</td>\n",
       "      <td>0</td>\n",
       "    </tr>\n",
       "    <tr>\n",
       "      <th>2</th>\n",
       "      <td>3433894</td>\n",
       "      <td>Flat &amp; Apartment</td>\n",
       "      <td>For Rent</td>\n",
       "      <td>2</td>\n",
       "      <td>0</td>\n",
       "      <td>46</td>\n",
       "      <td>70000</td>\n",
       "      <td>Dagoretti North</td>\n",
       "      <td>Valley Arcade</td>\n",
       "      <td>Lavington</td>\n",
       "      <td>0</td>\n",
       "      <td>0</td>\n",
       "      <td>0</td>\n",
       "    </tr>\n",
       "    <tr>\n",
       "      <th>3</th>\n",
       "      <td>3433821</td>\n",
       "      <td>Flat &amp; Apartment</td>\n",
       "      <td>For Rent</td>\n",
       "      <td>2</td>\n",
       "      <td>2</td>\n",
       "      <td>0</td>\n",
       "      <td>200000</td>\n",
       "      <td>Westlands</td>\n",
       "      <td>Westlands Area</td>\n",
       "      <td>Kingfisher Nest</td>\n",
       "      <td>0</td>\n",
       "      <td>0</td>\n",
       "      <td>0</td>\n",
       "    </tr>\n",
       "    <tr>\n",
       "      <th>4</th>\n",
       "      <td>3433777</td>\n",
       "      <td>Flat &amp; Apartment</td>\n",
       "      <td>For Rent</td>\n",
       "      <td>4</td>\n",
       "      <td>0</td>\n",
       "      <td>0</td>\n",
       "      <td>110000</td>\n",
       "      <td>Westlands</td>\n",
       "      <td>Parklands</td>\n",
       "      <td>1St Parklands</td>\n",
       "      <td>0</td>\n",
       "      <td>0</td>\n",
       "      <td>0</td>\n",
       "    </tr>\n",
       "  </tbody>\n",
       "</table>\n",
       "</div>"
      ],
      "text/plain": [
       "        id          category list_type beds baths sq_ft_price price_KES  \\\n",
       "0  3394167  Flat & Apartment  For Rent    2     0           0    120000   \n",
       "1  3399035  Flat & Apartment  For Rent    2     0          77     96000   \n",
       "2  3433894  Flat & Apartment  For Rent    2     0          46     70000   \n",
       "3  3433821  Flat & Apartment  For Rent    2     2           0    200000   \n",
       "4  3433777  Flat & Apartment  For Rent    4     0           0    110000   \n",
       "\n",
       "          district    neighborhood           street  latitude  longitude  \\\n",
       "0        Westlands       Brookside                0         0          0   \n",
       "1        Ridgeways               0                0         0          0   \n",
       "2  Dagoretti North   Valley Arcade        Lavington         0          0   \n",
       "3        Westlands  Westlands Area  Kingfisher Nest         0          0   \n",
       "4        Westlands       Parklands    1St Parklands         0          0   \n",
       "\n",
       "   clean_grab  \n",
       "0           0  \n",
       "1           0  \n",
       "2           0  \n",
       "3           0  \n",
       "4           0  "
      ]
     },
     "execution_count": 9,
     "metadata": {},
     "output_type": "execute_result"
    }
   ],
   "source": [
    "adverts_df.head()"
   ]
  },
  {
   "cell_type": "markdown",
   "metadata": {},
   "source": [
    "## Now lets define a function that allows us to grab results from Google and report whether or not the API call was successful, and if so, whether or not it actually grabbed a result."
   ]
  },
  {
   "cell_type": "code",
   "execution_count": 10,
   "metadata": {},
   "outputs": [],
   "source": [
    "def add_lat_long(df):\n",
    "    # initiate some counters so that we can troubleshoot later\n",
    "    success_count = 0\n",
    "    prev_success_count = 0\n",
    "    no_results_count = 0\n",
    "    no_results_list = []\n",
    "    fail_count = 0\n",
    "    fail_list = []\n",
    "    \n",
    "    # loop through the dataframe \n",
    "    for i in range(len(df)): \n",
    "        \n",
    "        # if there is a 0 in the clean_grab column:\n",
    "        if not df.loc[i, 'clean_grab']:\n",
    "            try:\n",
    "                # get the lat/long from google\n",
    "                lat, long, clean = get_lat_long(df.loc[i,:])\n",
    "                \n",
    "                # if there is a lat result, assign the lat, long, and status to the record:\n",
    "                if lat:\n",
    "                    df.loc[i, 'latitude'] = lat\n",
    "                    df.loc[i, 'longitude'] = long\n",
    "                    df.loc[i, 'clean_grab'] = clean\n",
    "                    success_count +=1\n",
    "                \n",
    "                # if not, \n",
    "                else:\n",
    "                    df.loc[i, 'clean_grab'] = clean\n",
    "                    no_results_count +=1\n",
    "                    no_results_list.append(i)\n",
    "            except:\n",
    "                df.loc[i, 'clean_grab'] = \"!\"\n",
    "                fail_count +=1\n",
    "                fail_list.append(i)\n",
    "        elif df.loc[i, 'clean_grab'] == 'OK':\n",
    "            prev_success_count +=1\n",
    "        elif df.loc[i, 'clean_grab'] == \"ZERO_RESULTS\":\n",
    "            no_results_count +=1\n",
    "            no_results_list.append(i)\n",
    "        else:\n",
    "            df.loc[i, 'clean_grab'] = \"!\"\n",
    "            fail_count +=1\n",
    "            fail_list.append(i)\n",
    "    \n",
    "    \n",
    "    print(f\"{success_count} entries were geocoded successfully. \\n\")\n",
    "    print(f\"{prev_success_count} entries had already been successfully geocoded. \\n\")\n",
    "    print(f\"{no_results_count} entries returned no results from the API. \\n Their indices: \\n {no_results_list}\")\n",
    "    print(f\"{fail_count} entries could not be geocoded at all.\")\n",
    "    print(f\"The indices of the failed searches: \\n {fail_list}\")\n",
    "    double_check_list = no_results_list + fail_list\n",
    "    return double_check_list"
   ]
  },
  {
   "cell_type": "markdown",
   "metadata": {},
   "source": [
    "## Now we can actually get the data!"
   ]
  },
  {
   "cell_type": "code",
   "execution_count": null,
   "metadata": {},
   "outputs": [],
   "source": [
    "double_check = add_lat_long(adverts_df)\n",
    "double_check"
   ]
  },
  {
   "cell_type": "code",
   "execution_count": null,
   "metadata": {},
   "outputs": [],
   "source": [
    "# there were only 7 entries that google could not get a result for, and none that\n",
    "# failed on syntax\n",
    "\n",
    "adverts_df.head()"
   ]
  },
  {
   "cell_type": "code",
   "execution_count": null,
   "metadata": {},
   "outputs": [],
   "source": [
    "# the seven rows that had no results from google. We can manually search, drop, or impute as desired\n",
    "\n",
    "adverts_df[adverts_df['clean_grab'] != \"OK\"]"
   ]
  },
  {
   "cell_type": "markdown",
   "metadata": {},
   "source": [
    "## Finally, we can export to CSV for further processing:"
   ]
  },
  {
   "cell_type": "code",
   "execution_count": null,
   "metadata": {},
   "outputs": [],
   "source": [
    "# now let's write to csv for safe-keeping!\n",
    "adverts_df.to_csv('./adverts_geocoded.csv')"
   ]
  },
  {
   "cell_type": "code",
   "execution_count": null,
   "metadata": {},
   "outputs": [],
   "source": []
  }
 ],
 "metadata": {
  "kernelspec": {
   "display_name": "Python 3",
   "language": "python",
   "name": "python3"
  },
  "language_info": {
   "codemirror_mode": {
    "name": "ipython",
    "version": 3
   },
   "file_extension": ".py",
   "mimetype": "text/x-python",
   "name": "python",
   "nbconvert_exporter": "python",
   "pygments_lexer": "ipython3",
   "version": "3.7.4"
  }
 },
 "nbformat": 4,
 "nbformat_minor": 2
}
