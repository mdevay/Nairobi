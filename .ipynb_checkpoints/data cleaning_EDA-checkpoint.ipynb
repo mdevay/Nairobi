{
 "cells": [
  {
   "cell_type": "code",
   "execution_count": 1,
   "metadata": {},
   "outputs": [],
   "source": [
    "import pandas as pd\n",
    "import numpy as my\n",
    "from matplotlib import pyplot as plt\n",
    "import seaborn as sns"
   ]
  },
  {
   "cell_type": "markdown",
   "metadata": {},
   "source": [
    "## Data Cleaning"
   ]
  },
  {
   "cell_type": "code",
   "execution_count": 2,
   "metadata": {},
   "outputs": [],
   "source": [
    "# read in all listings csv\n",
    "df = pd.read_csv('./datasets/nairobi_all_listings.csv')"
   ]
  },
  {
   "cell_type": "code",
   "execution_count": 3,
   "metadata": {},
   "outputs": [
    {
     "data": {
      "text/plain": [
       "(4000, 10)"
      ]
     },
     "execution_count": 3,
     "metadata": {},
     "output_type": "execute_result"
    }
   ],
   "source": [
    "df.shape"
   ]
  },
  {
   "cell_type": "code",
   "execution_count": 4,
   "metadata": {},
   "outputs": [
    {
     "data": {
      "text/plain": [
       "id               int64\n",
       "category        object\n",
       "list_type       object\n",
       "beds            object\n",
       "baths           object\n",
       "sq_ft_price     object\n",
       "price_KES       object\n",
       "district        object\n",
       "neighborhood    object\n",
       "street          object\n",
       "dtype: object"
      ]
     },
     "execution_count": 4,
     "metadata": {},
     "output_type": "execute_result"
    }
   ],
   "source": [
    "# checking data types; need to convert beds, baths, sq_ft_price, price_KES to numeric data type\n",
    "df.dtypes"
   ]
  },
  {
   "cell_type": "code",
   "execution_count": 5,
   "metadata": {},
   "outputs": [
    {
     "data": {
      "text/plain": [
       "id              0\n",
       "category        0\n",
       "list_type       0\n",
       "beds            0\n",
       "baths           0\n",
       "sq_ft_price     0\n",
       "price_KES       0\n",
       "district        0\n",
       "neighborhood    0\n",
       "street          8\n",
       "dtype: int64"
      ]
     },
     "execution_count": 5,
     "metadata": {},
     "output_type": "execute_result"
    }
   ],
   "source": [
    "# confirming any nulls\n",
    "df.isnull().sum()"
   ]
  },
  {
   "cell_type": "code",
   "execution_count": 6,
   "metadata": {},
   "outputs": [
    {
     "data": {
      "text/html": [
       "<div>\n",
       "<style scoped>\n",
       "    .dataframe tbody tr th:only-of-type {\n",
       "        vertical-align: middle;\n",
       "    }\n",
       "\n",
       "    .dataframe tbody tr th {\n",
       "        vertical-align: top;\n",
       "    }\n",
       "\n",
       "    .dataframe thead th {\n",
       "        text-align: right;\n",
       "    }\n",
       "</style>\n",
       "<table border=\"1\" class=\"dataframe\">\n",
       "  <thead>\n",
       "    <tr style=\"text-align: right;\">\n",
       "      <th></th>\n",
       "      <th>id</th>\n",
       "      <th>category</th>\n",
       "      <th>list_type</th>\n",
       "      <th>beds</th>\n",
       "      <th>baths</th>\n",
       "      <th>sq_ft_price</th>\n",
       "      <th>price_KES</th>\n",
       "      <th>district</th>\n",
       "      <th>neighborhood</th>\n",
       "      <th>street</th>\n",
       "    </tr>\n",
       "  </thead>\n",
       "  <tbody>\n",
       "    <tr>\n",
       "      <th>0</th>\n",
       "      <td>3394167</td>\n",
       "      <td>Flat &amp; Apartment</td>\n",
       "      <td>For Rent</td>\n",
       "      <td>2</td>\n",
       "      <td>None</td>\n",
       "      <td>None</td>\n",
       "      <td>120000</td>\n",
       "      <td>Westlands</td>\n",
       "      <td>Brookside</td>\n",
       "      <td>None</td>\n",
       "    </tr>\n",
       "    <tr>\n",
       "      <th>1</th>\n",
       "      <td>3399035</td>\n",
       "      <td>Flat &amp; Apartment</td>\n",
       "      <td>For Rent</td>\n",
       "      <td>2</td>\n",
       "      <td>None</td>\n",
       "      <td>77</td>\n",
       "      <td>96000</td>\n",
       "      <td>Ridgeways</td>\n",
       "      <td>None</td>\n",
       "      <td>None</td>\n",
       "    </tr>\n",
       "    <tr>\n",
       "      <th>2</th>\n",
       "      <td>3433894</td>\n",
       "      <td>Flat &amp; Apartment</td>\n",
       "      <td>For Rent</td>\n",
       "      <td>2</td>\n",
       "      <td>None</td>\n",
       "      <td>46</td>\n",
       "      <td>70000</td>\n",
       "      <td>Dagoretti North</td>\n",
       "      <td>Valley Arcade</td>\n",
       "      <td>Lavington</td>\n",
       "    </tr>\n",
       "    <tr>\n",
       "      <th>3</th>\n",
       "      <td>3433821</td>\n",
       "      <td>Flat &amp; Apartment</td>\n",
       "      <td>For Rent</td>\n",
       "      <td>2</td>\n",
       "      <td>2</td>\n",
       "      <td>None</td>\n",
       "      <td>200000</td>\n",
       "      <td>Westlands</td>\n",
       "      <td>Westlands Area</td>\n",
       "      <td>Kingfisher Nest</td>\n",
       "    </tr>\n",
       "    <tr>\n",
       "      <th>4</th>\n",
       "      <td>3433777</td>\n",
       "      <td>Flat &amp; Apartment</td>\n",
       "      <td>For Rent</td>\n",
       "      <td>4</td>\n",
       "      <td>None</td>\n",
       "      <td>None</td>\n",
       "      <td>110000</td>\n",
       "      <td>Westlands</td>\n",
       "      <td>Parklands</td>\n",
       "      <td>1St Parklands</td>\n",
       "    </tr>\n",
       "  </tbody>\n",
       "</table>\n",
       "</div>"
      ],
      "text/plain": [
       "        id          category list_type beds baths sq_ft_price price_KES  \\\n",
       "0  3394167  Flat & Apartment  For Rent    2  None        None    120000   \n",
       "1  3399035  Flat & Apartment  For Rent    2  None          77     96000   \n",
       "2  3433894  Flat & Apartment  For Rent    2  None          46     70000   \n",
       "3  3433821  Flat & Apartment  For Rent    2     2        None    200000   \n",
       "4  3433777  Flat & Apartment  For Rent    4  None        None    110000   \n",
       "\n",
       "          district    neighborhood           street  \n",
       "0        Westlands       Brookside             None  \n",
       "1        Ridgeways            None             None  \n",
       "2  Dagoretti North   Valley Arcade        Lavington  \n",
       "3        Westlands  Westlands Area  Kingfisher Nest  \n",
       "4        Westlands       Parklands    1St Parklands  "
      ]
     },
     "execution_count": 6,
     "metadata": {},
     "output_type": "execute_result"
    }
   ],
   "source": [
    "df.head()"
   ]
  },
  {
   "cell_type": "code",
   "execution_count": 7,
   "metadata": {},
   "outputs": [],
   "source": [
    "# impute nulls values with 0\n",
    "df['beds'].replace('None', 0, inplace=True)"
   ]
  },
  {
   "cell_type": "code",
   "execution_count": 8,
   "metadata": {},
   "outputs": [],
   "source": [
    "# convert beds column to numeric datatype\n",
    "df[\"beds\"] = pd.to_numeric(df[\"beds\"])"
   ]
  },
  {
   "cell_type": "code",
   "execution_count": 9,
   "metadata": {},
   "outputs": [
    {
     "data": {
      "text/plain": [
       "id               int64\n",
       "category        object\n",
       "list_type       object\n",
       "beds             int64\n",
       "baths           object\n",
       "sq_ft_price     object\n",
       "price_KES       object\n",
       "district        object\n",
       "neighborhood    object\n",
       "street          object\n",
       "dtype: object"
      ]
     },
     "execution_count": 9,
     "metadata": {},
     "output_type": "execute_result"
    }
   ],
   "source": [
    "df.dtypes"
   ]
  },
  {
   "cell_type": "code",
   "execution_count": 10,
   "metadata": {},
   "outputs": [],
   "source": [
    "# impute nulls values with 0\n",
    "df['baths'].replace('None', 0, inplace=True)"
   ]
  },
  {
   "cell_type": "code",
   "execution_count": 11,
   "metadata": {},
   "outputs": [],
   "source": [
    "# convert baths column to numeric datatype\n",
    "df[\"baths\"] = pd.to_numeric(df[\"baths\"])"
   ]
  },
  {
   "cell_type": "code",
   "execution_count": 12,
   "metadata": {},
   "outputs": [
    {
     "data": {
      "text/plain": [
       "id               int64\n",
       "category        object\n",
       "list_type       object\n",
       "beds             int64\n",
       "baths            int64\n",
       "sq_ft_price     object\n",
       "price_KES       object\n",
       "district        object\n",
       "neighborhood    object\n",
       "street          object\n",
       "dtype: object"
      ]
     },
     "execution_count": 12,
     "metadata": {},
     "output_type": "execute_result"
    }
   ],
   "source": [
    "df.dtypes"
   ]
  },
  {
   "cell_type": "code",
   "execution_count": 13,
   "metadata": {},
   "outputs": [],
   "source": [
    "# impute nulls values with 0\n",
    "df['sq_ft_price'].replace('None', 0, inplace=True)"
   ]
  },
  {
   "cell_type": "code",
   "execution_count": 14,
   "metadata": {},
   "outputs": [],
   "source": [
    "# convert sq_ft_price column to numeric datatype \n",
    "df[\"sq_ft_price\"] = pd.to_numeric(df[\"sq_ft_price\"])"
   ]
  },
  {
   "cell_type": "code",
   "execution_count": 15,
   "metadata": {},
   "outputs": [],
   "source": [
    "# impute nulls values with 0\n",
    "df['price_KES'].replace('None', 0, inplace=True)"
   ]
  },
  {
   "cell_type": "code",
   "execution_count": 16,
   "metadata": {},
   "outputs": [],
   "source": [
    "# convert price_KES column to numeric datatype \n",
    "df[\"price_KES\"] = pd.to_numeric(df[\"price_KES\"])"
   ]
  },
  {
   "cell_type": "code",
   "execution_count": 17,
   "metadata": {},
   "outputs": [
    {
     "data": {
      "text/plain": [
       "id               int64\n",
       "category        object\n",
       "list_type       object\n",
       "beds             int64\n",
       "baths            int64\n",
       "sq_ft_price      int64\n",
       "price_KES        int64\n",
       "district        object\n",
       "neighborhood    object\n",
       "street          object\n",
       "dtype: object"
      ]
     },
     "execution_count": 17,
     "metadata": {},
     "output_type": "execute_result"
    }
   ],
   "source": [
    "df.dtypes"
   ]
  },
  {
   "cell_type": "code",
   "execution_count": 18,
   "metadata": {},
   "outputs": [],
   "source": [
    "# create new column to convert KES price to USD\n",
    "# conversion rate from extraction date May 8, 2020\n",
    "df['price_USD'] = df['price_KES'] / 106.06"
   ]
  },
  {
   "cell_type": "code",
   "execution_count": 19,
   "metadata": {},
   "outputs": [
    {
     "data": {
      "text/html": [
       "<div>\n",
       "<style scoped>\n",
       "    .dataframe tbody tr th:only-of-type {\n",
       "        vertical-align: middle;\n",
       "    }\n",
       "\n",
       "    .dataframe tbody tr th {\n",
       "        vertical-align: top;\n",
       "    }\n",
       "\n",
       "    .dataframe thead th {\n",
       "        text-align: right;\n",
       "    }\n",
       "</style>\n",
       "<table border=\"1\" class=\"dataframe\">\n",
       "  <thead>\n",
       "    <tr style=\"text-align: right;\">\n",
       "      <th></th>\n",
       "      <th>id</th>\n",
       "      <th>category</th>\n",
       "      <th>list_type</th>\n",
       "      <th>beds</th>\n",
       "      <th>baths</th>\n",
       "      <th>sq_ft_price</th>\n",
       "      <th>price_KES</th>\n",
       "      <th>district</th>\n",
       "      <th>neighborhood</th>\n",
       "      <th>street</th>\n",
       "      <th>price_USD</th>\n",
       "    </tr>\n",
       "  </thead>\n",
       "  <tbody>\n",
       "    <tr>\n",
       "      <th>0</th>\n",
       "      <td>3394167</td>\n",
       "      <td>Flat &amp; Apartment</td>\n",
       "      <td>For Rent</td>\n",
       "      <td>2</td>\n",
       "      <td>0</td>\n",
       "      <td>0</td>\n",
       "      <td>120000</td>\n",
       "      <td>Westlands</td>\n",
       "      <td>Brookside</td>\n",
       "      <td>None</td>\n",
       "      <td>1131.435037</td>\n",
       "    </tr>\n",
       "    <tr>\n",
       "      <th>1</th>\n",
       "      <td>3399035</td>\n",
       "      <td>Flat &amp; Apartment</td>\n",
       "      <td>For Rent</td>\n",
       "      <td>2</td>\n",
       "      <td>0</td>\n",
       "      <td>77</td>\n",
       "      <td>96000</td>\n",
       "      <td>Ridgeways</td>\n",
       "      <td>None</td>\n",
       "      <td>None</td>\n",
       "      <td>905.148029</td>\n",
       "    </tr>\n",
       "    <tr>\n",
       "      <th>2</th>\n",
       "      <td>3433894</td>\n",
       "      <td>Flat &amp; Apartment</td>\n",
       "      <td>For Rent</td>\n",
       "      <td>2</td>\n",
       "      <td>0</td>\n",
       "      <td>46</td>\n",
       "      <td>70000</td>\n",
       "      <td>Dagoretti North</td>\n",
       "      <td>Valley Arcade</td>\n",
       "      <td>Lavington</td>\n",
       "      <td>660.003771</td>\n",
       "    </tr>\n",
       "  </tbody>\n",
       "</table>\n",
       "</div>"
      ],
      "text/plain": [
       "        id          category list_type  beds  baths  sq_ft_price  price_KES  \\\n",
       "0  3394167  Flat & Apartment  For Rent     2      0            0     120000   \n",
       "1  3399035  Flat & Apartment  For Rent     2      0           77      96000   \n",
       "2  3433894  Flat & Apartment  For Rent     2      0           46      70000   \n",
       "\n",
       "          district   neighborhood     street    price_USD  \n",
       "0        Westlands      Brookside       None  1131.435037  \n",
       "1        Ridgeways           None       None   905.148029  \n",
       "2  Dagoretti North  Valley Arcade  Lavington   660.003771  "
      ]
     },
     "execution_count": 19,
     "metadata": {},
     "output_type": "execute_result"
    }
   ],
   "source": [
    "df.head(3)"
   ]
  },
  {
   "cell_type": "code",
   "execution_count": 20,
   "metadata": {},
   "outputs": [],
   "source": [
    "# create new column to convert KES sq_ft_price to USD\n",
    "# conversion rate from extraction date May 8, 2020\n",
    "df['sq_ft_price_USD'] = df['sq_ft_price'] / 106.06"
   ]
  },
  {
   "cell_type": "code",
   "execution_count": 21,
   "metadata": {},
   "outputs": [
    {
     "data": {
      "text/html": [
       "<div>\n",
       "<style scoped>\n",
       "    .dataframe tbody tr th:only-of-type {\n",
       "        vertical-align: middle;\n",
       "    }\n",
       "\n",
       "    .dataframe tbody tr th {\n",
       "        vertical-align: top;\n",
       "    }\n",
       "\n",
       "    .dataframe thead th {\n",
       "        text-align: right;\n",
       "    }\n",
       "</style>\n",
       "<table border=\"1\" class=\"dataframe\">\n",
       "  <thead>\n",
       "    <tr style=\"text-align: right;\">\n",
       "      <th></th>\n",
       "      <th>id</th>\n",
       "      <th>category</th>\n",
       "      <th>list_type</th>\n",
       "      <th>beds</th>\n",
       "      <th>baths</th>\n",
       "      <th>sq_ft_price</th>\n",
       "      <th>price_KES</th>\n",
       "      <th>district</th>\n",
       "      <th>neighborhood</th>\n",
       "      <th>street</th>\n",
       "      <th>price_USD</th>\n",
       "      <th>sq_ft_price_USD</th>\n",
       "    </tr>\n",
       "  </thead>\n",
       "  <tbody>\n",
       "    <tr>\n",
       "      <th>0</th>\n",
       "      <td>3394167</td>\n",
       "      <td>Flat &amp; Apartment</td>\n",
       "      <td>For Rent</td>\n",
       "      <td>2</td>\n",
       "      <td>0</td>\n",
       "      <td>0</td>\n",
       "      <td>120000</td>\n",
       "      <td>Westlands</td>\n",
       "      <td>Brookside</td>\n",
       "      <td>None</td>\n",
       "      <td>1131.435037</td>\n",
       "      <td>0.000000</td>\n",
       "    </tr>\n",
       "    <tr>\n",
       "      <th>1</th>\n",
       "      <td>3399035</td>\n",
       "      <td>Flat &amp; Apartment</td>\n",
       "      <td>For Rent</td>\n",
       "      <td>2</td>\n",
       "      <td>0</td>\n",
       "      <td>77</td>\n",
       "      <td>96000</td>\n",
       "      <td>Ridgeways</td>\n",
       "      <td>None</td>\n",
       "      <td>None</td>\n",
       "      <td>905.148029</td>\n",
       "      <td>0.726004</td>\n",
       "    </tr>\n",
       "    <tr>\n",
       "      <th>2</th>\n",
       "      <td>3433894</td>\n",
       "      <td>Flat &amp; Apartment</td>\n",
       "      <td>For Rent</td>\n",
       "      <td>2</td>\n",
       "      <td>0</td>\n",
       "      <td>46</td>\n",
       "      <td>70000</td>\n",
       "      <td>Dagoretti North</td>\n",
       "      <td>Valley Arcade</td>\n",
       "      <td>Lavington</td>\n",
       "      <td>660.003771</td>\n",
       "      <td>0.433717</td>\n",
       "    </tr>\n",
       "  </tbody>\n",
       "</table>\n",
       "</div>"
      ],
      "text/plain": [
       "        id          category list_type  beds  baths  sq_ft_price  price_KES  \\\n",
       "0  3394167  Flat & Apartment  For Rent     2      0            0     120000   \n",
       "1  3399035  Flat & Apartment  For Rent     2      0           77      96000   \n",
       "2  3433894  Flat & Apartment  For Rent     2      0           46      70000   \n",
       "\n",
       "          district   neighborhood     street    price_USD  sq_ft_price_USD  \n",
       "0        Westlands      Brookside       None  1131.435037         0.000000  \n",
       "1        Ridgeways           None       None   905.148029         0.726004  \n",
       "2  Dagoretti North  Valley Arcade  Lavington   660.003771         0.433717  "
      ]
     },
     "execution_count": 21,
     "metadata": {},
     "output_type": "execute_result"
    }
   ],
   "source": [
    "df.head(3)"
   ]
  },
  {
   "cell_type": "code",
   "execution_count": 22,
   "metadata": {},
   "outputs": [
    {
     "data": {
      "text/html": [
       "<div>\n",
       "<style scoped>\n",
       "    .dataframe tbody tr th:only-of-type {\n",
       "        vertical-align: middle;\n",
       "    }\n",
       "\n",
       "    .dataframe tbody tr th {\n",
       "        vertical-align: top;\n",
       "    }\n",
       "\n",
       "    .dataframe thead th {\n",
       "        text-align: right;\n",
       "    }\n",
       "</style>\n",
       "<table border=\"1\" class=\"dataframe\">\n",
       "  <thead>\n",
       "    <tr style=\"text-align: right;\">\n",
       "      <th></th>\n",
       "      <th>id</th>\n",
       "      <th>category</th>\n",
       "      <th>list_type</th>\n",
       "      <th>beds</th>\n",
       "      <th>baths</th>\n",
       "      <th>sq_ft_price</th>\n",
       "      <th>sq_ft_price_USD</th>\n",
       "      <th>price_KES</th>\n",
       "      <th>price_USD</th>\n",
       "      <th>district</th>\n",
       "      <th>neighborhood</th>\n",
       "      <th>street</th>\n",
       "    </tr>\n",
       "  </thead>\n",
       "  <tbody>\n",
       "    <tr>\n",
       "      <th>0</th>\n",
       "      <td>3394167</td>\n",
       "      <td>Flat &amp; Apartment</td>\n",
       "      <td>For Rent</td>\n",
       "      <td>2</td>\n",
       "      <td>0</td>\n",
       "      <td>0</td>\n",
       "      <td>0.000000</td>\n",
       "      <td>120000</td>\n",
       "      <td>1131.435037</td>\n",
       "      <td>Westlands</td>\n",
       "      <td>Brookside</td>\n",
       "      <td>None</td>\n",
       "    </tr>\n",
       "    <tr>\n",
       "      <th>1</th>\n",
       "      <td>3399035</td>\n",
       "      <td>Flat &amp; Apartment</td>\n",
       "      <td>For Rent</td>\n",
       "      <td>2</td>\n",
       "      <td>0</td>\n",
       "      <td>77</td>\n",
       "      <td>0.726004</td>\n",
       "      <td>96000</td>\n",
       "      <td>905.148029</td>\n",
       "      <td>Ridgeways</td>\n",
       "      <td>None</td>\n",
       "      <td>None</td>\n",
       "    </tr>\n",
       "    <tr>\n",
       "      <th>2</th>\n",
       "      <td>3433894</td>\n",
       "      <td>Flat &amp; Apartment</td>\n",
       "      <td>For Rent</td>\n",
       "      <td>2</td>\n",
       "      <td>0</td>\n",
       "      <td>46</td>\n",
       "      <td>0.433717</td>\n",
       "      <td>70000</td>\n",
       "      <td>660.003771</td>\n",
       "      <td>Dagoretti North</td>\n",
       "      <td>Valley Arcade</td>\n",
       "      <td>Lavington</td>\n",
       "    </tr>\n",
       "    <tr>\n",
       "      <th>3</th>\n",
       "      <td>3433821</td>\n",
       "      <td>Flat &amp; Apartment</td>\n",
       "      <td>For Rent</td>\n",
       "      <td>2</td>\n",
       "      <td>2</td>\n",
       "      <td>0</td>\n",
       "      <td>0.000000</td>\n",
       "      <td>200000</td>\n",
       "      <td>1885.725061</td>\n",
       "      <td>Westlands</td>\n",
       "      <td>Westlands Area</td>\n",
       "      <td>Kingfisher Nest</td>\n",
       "    </tr>\n",
       "    <tr>\n",
       "      <th>4</th>\n",
       "      <td>3433777</td>\n",
       "      <td>Flat &amp; Apartment</td>\n",
       "      <td>For Rent</td>\n",
       "      <td>4</td>\n",
       "      <td>0</td>\n",
       "      <td>0</td>\n",
       "      <td>0.000000</td>\n",
       "      <td>110000</td>\n",
       "      <td>1037.148784</td>\n",
       "      <td>Westlands</td>\n",
       "      <td>Parklands</td>\n",
       "      <td>1St Parklands</td>\n",
       "    </tr>\n",
       "    <tr>\n",
       "      <th>...</th>\n",
       "      <td>...</td>\n",
       "      <td>...</td>\n",
       "      <td>...</td>\n",
       "      <td>...</td>\n",
       "      <td>...</td>\n",
       "      <td>...</td>\n",
       "      <td>...</td>\n",
       "      <td>...</td>\n",
       "      <td>...</td>\n",
       "      <td>...</td>\n",
       "      <td>...</td>\n",
       "      <td>...</td>\n",
       "    </tr>\n",
       "    <tr>\n",
       "      <th>3995</th>\n",
       "      <td>3400085</td>\n",
       "      <td>Flat &amp; Apartment</td>\n",
       "      <td>For Sale</td>\n",
       "      <td>3</td>\n",
       "      <td>4</td>\n",
       "      <td>11476</td>\n",
       "      <td>108.202904</td>\n",
       "      <td>18900000</td>\n",
       "      <td>178201.018292</td>\n",
       "      <td>Dagoretti North</td>\n",
       "      <td>Kileleshwa</td>\n",
       "      <td>Kileleshwa</td>\n",
       "    </tr>\n",
       "    <tr>\n",
       "      <th>3996</th>\n",
       "      <td>3403249</td>\n",
       "      <td>Flat &amp; Apartment</td>\n",
       "      <td>For Sale</td>\n",
       "      <td>3</td>\n",
       "      <td>0</td>\n",
       "      <td>0</td>\n",
       "      <td>0.000000</td>\n",
       "      <td>19000000</td>\n",
       "      <td>179143.880822</td>\n",
       "      <td>Dagoretti North</td>\n",
       "      <td>Kilimani</td>\n",
       "      <td>None</td>\n",
       "    </tr>\n",
       "    <tr>\n",
       "      <th>3997</th>\n",
       "      <td>3400575</td>\n",
       "      <td>Studio</td>\n",
       "      <td>For Sale</td>\n",
       "      <td>1</td>\n",
       "      <td>1</td>\n",
       "      <td>8361</td>\n",
       "      <td>78.832736</td>\n",
       "      <td>3600000</td>\n",
       "      <td>33943.051103</td>\n",
       "      <td>Dagoretti North</td>\n",
       "      <td>Kileleshwa</td>\n",
       "      <td>Kileleshwa</td>\n",
       "    </tr>\n",
       "    <tr>\n",
       "      <th>3998</th>\n",
       "      <td>3386205</td>\n",
       "      <td>Flat &amp; Apartment</td>\n",
       "      <td>For Sale</td>\n",
       "      <td>2</td>\n",
       "      <td>2</td>\n",
       "      <td>0</td>\n",
       "      <td>0.000000</td>\n",
       "      <td>7950000</td>\n",
       "      <td>74957.571186</td>\n",
       "      <td>Ngong Road</td>\n",
       "      <td>None</td>\n",
       "      <td>None</td>\n",
       "    </tr>\n",
       "    <tr>\n",
       "      <th>3999</th>\n",
       "      <td>3399116</td>\n",
       "      <td>Flat &amp; Apartment</td>\n",
       "      <td>For Sale</td>\n",
       "      <td>3</td>\n",
       "      <td>3</td>\n",
       "      <td>0</td>\n",
       "      <td>0.000000</td>\n",
       "      <td>15500000</td>\n",
       "      <td>146143.692250</td>\n",
       "      <td>Dagoretti North</td>\n",
       "      <td>Kilimani</td>\n",
       "      <td>None</td>\n",
       "    </tr>\n",
       "  </tbody>\n",
       "</table>\n",
       "<p>4000 rows × 12 columns</p>\n",
       "</div>"
      ],
      "text/plain": [
       "           id          category list_type  beds  baths  sq_ft_price  \\\n",
       "0     3394167  Flat & Apartment  For Rent     2      0            0   \n",
       "1     3399035  Flat & Apartment  For Rent     2      0           77   \n",
       "2     3433894  Flat & Apartment  For Rent     2      0           46   \n",
       "3     3433821  Flat & Apartment  For Rent     2      2            0   \n",
       "4     3433777  Flat & Apartment  For Rent     4      0            0   \n",
       "...       ...               ...       ...   ...    ...          ...   \n",
       "3995  3400085  Flat & Apartment  For Sale     3      4        11476   \n",
       "3996  3403249  Flat & Apartment  For Sale     3      0            0   \n",
       "3997  3400575            Studio  For Sale     1      1         8361   \n",
       "3998  3386205  Flat & Apartment  For Sale     2      2            0   \n",
       "3999  3399116  Flat & Apartment  For Sale     3      3            0   \n",
       "\n",
       "      sq_ft_price_USD  price_KES      price_USD         district  \\\n",
       "0            0.000000     120000    1131.435037        Westlands   \n",
       "1            0.726004      96000     905.148029        Ridgeways   \n",
       "2            0.433717      70000     660.003771  Dagoretti North   \n",
       "3            0.000000     200000    1885.725061        Westlands   \n",
       "4            0.000000     110000    1037.148784        Westlands   \n",
       "...               ...        ...            ...              ...   \n",
       "3995       108.202904   18900000  178201.018292  Dagoretti North   \n",
       "3996         0.000000   19000000  179143.880822  Dagoretti North   \n",
       "3997        78.832736    3600000   33943.051103  Dagoretti North   \n",
       "3998         0.000000    7950000   74957.571186       Ngong Road   \n",
       "3999         0.000000   15500000  146143.692250  Dagoretti North   \n",
       "\n",
       "        neighborhood           street  \n",
       "0          Brookside             None  \n",
       "1               None             None  \n",
       "2      Valley Arcade        Lavington  \n",
       "3     Westlands Area  Kingfisher Nest  \n",
       "4          Parklands    1St Parklands  \n",
       "...              ...              ...  \n",
       "3995      Kileleshwa       Kileleshwa  \n",
       "3996        Kilimani             None  \n",
       "3997      Kileleshwa       Kileleshwa  \n",
       "3998            None             None  \n",
       "3999        Kilimani             None  \n",
       "\n",
       "[4000 rows x 12 columns]"
      ]
     },
     "execution_count": 22,
     "metadata": {},
     "output_type": "execute_result"
    }
   ],
   "source": [
    "# reorder columns \n",
    "df[['id', 'category', 'list_type', 'beds', 'baths', \n",
    "    'sq_ft_price', 'sq_ft_price_USD', 'price_KES', 'price_USD',\n",
    "    'district', 'neighborhood', 'street']]"
   ]
  },
  {
   "cell_type": "code",
   "execution_count": 23,
   "metadata": {},
   "outputs": [],
   "source": [
    "# save changes made to csv\n",
    "df.to_csv('./datasets/nairobi_all_listings')"
   ]
  },
  {
   "cell_type": "markdown",
   "metadata": {},
   "source": [
    "## Exploratory Data Analysis"
   ]
  },
  {
   "cell_type": "markdown",
   "metadata": {},
   "source": [
    "### Rental Data"
   ]
  },
  {
   "cell_type": "code",
   "execution_count": 24,
   "metadata": {},
   "outputs": [],
   "source": [
    "# import cleaned csv of locations\n",
    "df = pd.read_csv('./datasets/nairobi_all_listings_clean.csv')"
   ]
  },
  {
   "cell_type": "code",
   "execution_count": 25,
   "metadata": {},
   "outputs": [
    {
     "data": {
      "text/html": [
       "<div>\n",
       "<style scoped>\n",
       "    .dataframe tbody tr th:only-of-type {\n",
       "        vertical-align: middle;\n",
       "    }\n",
       "\n",
       "    .dataframe tbody tr th {\n",
       "        vertical-align: top;\n",
       "    }\n",
       "\n",
       "    .dataframe thead th {\n",
       "        text-align: right;\n",
       "    }\n",
       "</style>\n",
       "<table border=\"1\" class=\"dataframe\">\n",
       "  <thead>\n",
       "    <tr style=\"text-align: right;\">\n",
       "      <th></th>\n",
       "      <th>id</th>\n",
       "      <th>category</th>\n",
       "      <th>list_type</th>\n",
       "      <th>beds</th>\n",
       "      <th>baths</th>\n",
       "      <th>sq_ft_price</th>\n",
       "      <th>sq_ft_price_USD</th>\n",
       "      <th>price_KES</th>\n",
       "      <th>price_USD</th>\n",
       "      <th>district</th>\n",
       "      <th>neighborhood</th>\n",
       "      <th>street</th>\n",
       "      <th>County</th>\n",
       "      <th>SubCounty</th>\n",
       "      <th>Latitude</th>\n",
       "      <th>Longitude</th>\n",
       "    </tr>\n",
       "  </thead>\n",
       "  <tbody>\n",
       "    <tr>\n",
       "      <th>0</th>\n",
       "      <td>3394167</td>\n",
       "      <td>Flat &amp; Apartment</td>\n",
       "      <td>For Rent</td>\n",
       "      <td>2</td>\n",
       "      <td>0</td>\n",
       "      <td>0</td>\n",
       "      <td>0.000000</td>\n",
       "      <td>120000</td>\n",
       "      <td>1131.435037</td>\n",
       "      <td>Westlands</td>\n",
       "      <td>Brookside</td>\n",
       "      <td>None</td>\n",
       "      <td>WESTLANDS</td>\n",
       "      <td>SPRING VALLEY</td>\n",
       "      <td>-1.256163</td>\n",
       "      <td>36.791940</td>\n",
       "    </tr>\n",
       "    <tr>\n",
       "      <th>1</th>\n",
       "      <td>3399035</td>\n",
       "      <td>Flat &amp; Apartment</td>\n",
       "      <td>For Rent</td>\n",
       "      <td>2</td>\n",
       "      <td>0</td>\n",
       "      <td>77</td>\n",
       "      <td>0.726004</td>\n",
       "      <td>96000</td>\n",
       "      <td>905.148029</td>\n",
       "      <td>Ridgeways</td>\n",
       "      <td>None</td>\n",
       "      <td>None</td>\n",
       "      <td>WESTLANDS</td>\n",
       "      <td>MUTHAIGA</td>\n",
       "      <td>-1.230687</td>\n",
       "      <td>36.849247</td>\n",
       "    </tr>\n",
       "    <tr>\n",
       "      <th>2</th>\n",
       "      <td>3433894</td>\n",
       "      <td>Flat &amp; Apartment</td>\n",
       "      <td>For Rent</td>\n",
       "      <td>2</td>\n",
       "      <td>0</td>\n",
       "      <td>46</td>\n",
       "      <td>0.433717</td>\n",
       "      <td>70000</td>\n",
       "      <td>660.003771</td>\n",
       "      <td>Dagoretti North</td>\n",
       "      <td>Valley Arcade</td>\n",
       "      <td>Lavington</td>\n",
       "      <td>WESTLANDS</td>\n",
       "      <td>MAZIWA</td>\n",
       "      <td>-1.290723</td>\n",
       "      <td>36.769157</td>\n",
       "    </tr>\n",
       "  </tbody>\n",
       "</table>\n",
       "</div>"
      ],
      "text/plain": [
       "        id          category list_type  beds  baths  sq_ft_price  \\\n",
       "0  3394167  Flat & Apartment  For Rent     2      0            0   \n",
       "1  3399035  Flat & Apartment  For Rent     2      0           77   \n",
       "2  3433894  Flat & Apartment  For Rent     2      0           46   \n",
       "\n",
       "   sq_ft_price_USD  price_KES    price_USD         district   neighborhood  \\\n",
       "0         0.000000     120000  1131.435037        Westlands      Brookside   \n",
       "1         0.726004      96000   905.148029        Ridgeways           None   \n",
       "2         0.433717      70000   660.003771  Dagoretti North  Valley Arcade   \n",
       "\n",
       "      street     County      SubCounty  Latitude  Longitude  \n",
       "0       None  WESTLANDS  SPRING VALLEY -1.256163  36.791940  \n",
       "1       None  WESTLANDS       MUTHAIGA -1.230687  36.849247  \n",
       "2  Lavington  WESTLANDS         MAZIWA -1.290723  36.769157  "
      ]
     },
     "execution_count": 25,
     "metadata": {},
     "output_type": "execute_result"
    }
   ],
   "source": [
    "df.head(3)"
   ]
  },
  {
   "cell_type": "code",
   "execution_count": 26,
   "metadata": {},
   "outputs": [],
   "source": [
    "df_rent= df[(df.list_type == 'For Rent')]"
   ]
  },
  {
   "cell_type": "code",
   "execution_count": 27,
   "metadata": {},
   "outputs": [
    {
     "data": {
      "text/html": [
       "<div>\n",
       "<style scoped>\n",
       "    .dataframe tbody tr th:only-of-type {\n",
       "        vertical-align: middle;\n",
       "    }\n",
       "\n",
       "    .dataframe tbody tr th {\n",
       "        vertical-align: top;\n",
       "    }\n",
       "\n",
       "    .dataframe thead th {\n",
       "        text-align: right;\n",
       "    }\n",
       "</style>\n",
       "<table border=\"1\" class=\"dataframe\">\n",
       "  <thead>\n",
       "    <tr style=\"text-align: right;\">\n",
       "      <th></th>\n",
       "      <th>id</th>\n",
       "      <th>category</th>\n",
       "      <th>list_type</th>\n",
       "      <th>beds</th>\n",
       "      <th>baths</th>\n",
       "      <th>sq_ft_price</th>\n",
       "      <th>sq_ft_price_USD</th>\n",
       "      <th>price_KES</th>\n",
       "      <th>price_USD</th>\n",
       "      <th>district</th>\n",
       "      <th>neighborhood</th>\n",
       "      <th>street</th>\n",
       "      <th>County</th>\n",
       "      <th>SubCounty</th>\n",
       "      <th>Latitude</th>\n",
       "      <th>Longitude</th>\n",
       "    </tr>\n",
       "  </thead>\n",
       "  <tbody>\n",
       "    <tr>\n",
       "      <th>0</th>\n",
       "      <td>3394167</td>\n",
       "      <td>Flat &amp; Apartment</td>\n",
       "      <td>For Rent</td>\n",
       "      <td>2</td>\n",
       "      <td>0</td>\n",
       "      <td>0</td>\n",
       "      <td>0.000000</td>\n",
       "      <td>120000</td>\n",
       "      <td>1131.435037</td>\n",
       "      <td>Westlands</td>\n",
       "      <td>Brookside</td>\n",
       "      <td>None</td>\n",
       "      <td>WESTLANDS</td>\n",
       "      <td>SPRING VALLEY</td>\n",
       "      <td>-1.256163</td>\n",
       "      <td>36.791940</td>\n",
       "    </tr>\n",
       "    <tr>\n",
       "      <th>1</th>\n",
       "      <td>3399035</td>\n",
       "      <td>Flat &amp; Apartment</td>\n",
       "      <td>For Rent</td>\n",
       "      <td>2</td>\n",
       "      <td>0</td>\n",
       "      <td>77</td>\n",
       "      <td>0.726004</td>\n",
       "      <td>96000</td>\n",
       "      <td>905.148029</td>\n",
       "      <td>Ridgeways</td>\n",
       "      <td>None</td>\n",
       "      <td>None</td>\n",
       "      <td>WESTLANDS</td>\n",
       "      <td>MUTHAIGA</td>\n",
       "      <td>-1.230687</td>\n",
       "      <td>36.849247</td>\n",
       "    </tr>\n",
       "    <tr>\n",
       "      <th>2</th>\n",
       "      <td>3433894</td>\n",
       "      <td>Flat &amp; Apartment</td>\n",
       "      <td>For Rent</td>\n",
       "      <td>2</td>\n",
       "      <td>0</td>\n",
       "      <td>46</td>\n",
       "      <td>0.433717</td>\n",
       "      <td>70000</td>\n",
       "      <td>660.003771</td>\n",
       "      <td>Dagoretti North</td>\n",
       "      <td>Valley Arcade</td>\n",
       "      <td>Lavington</td>\n",
       "      <td>WESTLANDS</td>\n",
       "      <td>MAZIWA</td>\n",
       "      <td>-1.290723</td>\n",
       "      <td>36.769157</td>\n",
       "    </tr>\n",
       "    <tr>\n",
       "      <th>3</th>\n",
       "      <td>3433821</td>\n",
       "      <td>Flat &amp; Apartment</td>\n",
       "      <td>For Rent</td>\n",
       "      <td>2</td>\n",
       "      <td>2</td>\n",
       "      <td>0</td>\n",
       "      <td>0.000000</td>\n",
       "      <td>200000</td>\n",
       "      <td>1885.725061</td>\n",
       "      <td>Westlands</td>\n",
       "      <td>Westlands Area</td>\n",
       "      <td>Kingfisher Nest</td>\n",
       "      <td>WESTLANDS</td>\n",
       "      <td>SPRING VALLEY</td>\n",
       "      <td>-1.258453</td>\n",
       "      <td>36.804754</td>\n",
       "    </tr>\n",
       "    <tr>\n",
       "      <th>4</th>\n",
       "      <td>3433777</td>\n",
       "      <td>Flat &amp; Apartment</td>\n",
       "      <td>For Rent</td>\n",
       "      <td>4</td>\n",
       "      <td>0</td>\n",
       "      <td>0</td>\n",
       "      <td>0.000000</td>\n",
       "      <td>110000</td>\n",
       "      <td>1037.148784</td>\n",
       "      <td>Westlands</td>\n",
       "      <td>Parklands</td>\n",
       "      <td>1St Parklands</td>\n",
       "      <td>WESTLANDS</td>\n",
       "      <td>MUTHAIGA</td>\n",
       "      <td>-1.263270</td>\n",
       "      <td>36.815948</td>\n",
       "    </tr>\n",
       "    <tr>\n",
       "      <th>...</th>\n",
       "      <td>...</td>\n",
       "      <td>...</td>\n",
       "      <td>...</td>\n",
       "      <td>...</td>\n",
       "      <td>...</td>\n",
       "      <td>...</td>\n",
       "      <td>...</td>\n",
       "      <td>...</td>\n",
       "      <td>...</td>\n",
       "      <td>...</td>\n",
       "      <td>...</td>\n",
       "      <td>...</td>\n",
       "      <td>...</td>\n",
       "      <td>...</td>\n",
       "      <td>...</td>\n",
       "      <td>...</td>\n",
       "    </tr>\n",
       "    <tr>\n",
       "      <th>1776</th>\n",
       "      <td>3425932</td>\n",
       "      <td>Flat &amp; Apartment</td>\n",
       "      <td>For Rent</td>\n",
       "      <td>3</td>\n",
       "      <td>3</td>\n",
       "      <td>72</td>\n",
       "      <td>0.678861</td>\n",
       "      <td>140000</td>\n",
       "      <td>1320.007543</td>\n",
       "      <td>Westlands</td>\n",
       "      <td>Westlands Area</td>\n",
       "      <td>Cedar Road</td>\n",
       "      <td>WESTLANDS</td>\n",
       "      <td>MUTHANGARI</td>\n",
       "      <td>-1.267686</td>\n",
       "      <td>36.797797</td>\n",
       "    </tr>\n",
       "    <tr>\n",
       "      <th>1777</th>\n",
       "      <td>3430185</td>\n",
       "      <td>Flat &amp; Apartment</td>\n",
       "      <td>For Rent</td>\n",
       "      <td>3</td>\n",
       "      <td>4</td>\n",
       "      <td>0</td>\n",
       "      <td>0.000000</td>\n",
       "      <td>120000</td>\n",
       "      <td>1131.435037</td>\n",
       "      <td>Dagoretti North</td>\n",
       "      <td>Kilimani</td>\n",
       "      <td>NaN</td>\n",
       "      <td>WESTLANDS</td>\n",
       "      <td>KILIMANI</td>\n",
       "      <td>-1.289279</td>\n",
       "      <td>36.786931</td>\n",
       "    </tr>\n",
       "    <tr>\n",
       "      <th>1778</th>\n",
       "      <td>3429123</td>\n",
       "      <td>Flat &amp; Apartment</td>\n",
       "      <td>For Rent</td>\n",
       "      <td>1</td>\n",
       "      <td>2</td>\n",
       "      <td>85</td>\n",
       "      <td>0.801433</td>\n",
       "      <td>110000</td>\n",
       "      <td>1037.148784</td>\n",
       "      <td>Dagoretti North</td>\n",
       "      <td>Lavington</td>\n",
       "      <td>Gitanga Road</td>\n",
       "      <td>WESTLANDS</td>\n",
       "      <td>MAZIWA</td>\n",
       "      <td>-1.289890</td>\n",
       "      <td>36.768148</td>\n",
       "    </tr>\n",
       "    <tr>\n",
       "      <th>1779</th>\n",
       "      <td>3429516</td>\n",
       "      <td>Flat &amp; Apartment</td>\n",
       "      <td>For Rent</td>\n",
       "      <td>3</td>\n",
       "      <td>4</td>\n",
       "      <td>0</td>\n",
       "      <td>0.000000</td>\n",
       "      <td>100000</td>\n",
       "      <td>942.862531</td>\n",
       "      <td>Dagoretti North</td>\n",
       "      <td>Kileleshwa</td>\n",
       "      <td>None</td>\n",
       "      <td>WESTLANDS</td>\n",
       "      <td>KILELESHWA</td>\n",
       "      <td>-1.280739</td>\n",
       "      <td>36.781686</td>\n",
       "    </tr>\n",
       "    <tr>\n",
       "      <th>1780</th>\n",
       "      <td>3429914</td>\n",
       "      <td>Flat &amp; Apartment</td>\n",
       "      <td>For Rent</td>\n",
       "      <td>2</td>\n",
       "      <td>3</td>\n",
       "      <td>0</td>\n",
       "      <td>0.000000</td>\n",
       "      <td>60000</td>\n",
       "      <td>565.717518</td>\n",
       "      <td>Dagoretti North</td>\n",
       "      <td>Kilimani</td>\n",
       "      <td>Kirichwa Road</td>\n",
       "      <td>WESTLANDS</td>\n",
       "      <td>KILIMANI</td>\n",
       "      <td>-1.294215</td>\n",
       "      <td>36.781781</td>\n",
       "    </tr>\n",
       "  </tbody>\n",
       "</table>\n",
       "<p>1781 rows × 16 columns</p>\n",
       "</div>"
      ],
      "text/plain": [
       "           id          category list_type  beds  baths  sq_ft_price  \\\n",
       "0     3394167  Flat & Apartment  For Rent     2      0            0   \n",
       "1     3399035  Flat & Apartment  For Rent     2      0           77   \n",
       "2     3433894  Flat & Apartment  For Rent     2      0           46   \n",
       "3     3433821  Flat & Apartment  For Rent     2      2            0   \n",
       "4     3433777  Flat & Apartment  For Rent     4      0            0   \n",
       "...       ...               ...       ...   ...    ...          ...   \n",
       "1776  3425932  Flat & Apartment  For Rent     3      3           72   \n",
       "1777  3430185  Flat & Apartment  For Rent     3      4            0   \n",
       "1778  3429123  Flat & Apartment  For Rent     1      2           85   \n",
       "1779  3429516  Flat & Apartment  For Rent     3      4            0   \n",
       "1780  3429914  Flat & Apartment  For Rent     2      3            0   \n",
       "\n",
       "      sq_ft_price_USD  price_KES    price_USD         district  \\\n",
       "0            0.000000     120000  1131.435037        Westlands   \n",
       "1            0.726004      96000   905.148029        Ridgeways   \n",
       "2            0.433717      70000   660.003771  Dagoretti North   \n",
       "3            0.000000     200000  1885.725061        Westlands   \n",
       "4            0.000000     110000  1037.148784        Westlands   \n",
       "...               ...        ...          ...              ...   \n",
       "1776         0.678861     140000  1320.007543        Westlands   \n",
       "1777         0.000000     120000  1131.435037  Dagoretti North   \n",
       "1778         0.801433     110000  1037.148784  Dagoretti North   \n",
       "1779         0.000000     100000   942.862531  Dagoretti North   \n",
       "1780         0.000000      60000   565.717518  Dagoretti North   \n",
       "\n",
       "        neighborhood           street     County      SubCounty  Latitude  \\\n",
       "0          Brookside             None  WESTLANDS  SPRING VALLEY -1.256163   \n",
       "1               None             None  WESTLANDS       MUTHAIGA -1.230687   \n",
       "2      Valley Arcade        Lavington  WESTLANDS         MAZIWA -1.290723   \n",
       "3     Westlands Area  Kingfisher Nest  WESTLANDS  SPRING VALLEY -1.258453   \n",
       "4          Parklands    1St Parklands  WESTLANDS       MUTHAIGA -1.263270   \n",
       "...              ...              ...        ...            ...       ...   \n",
       "1776  Westlands Area       Cedar Road  WESTLANDS     MUTHANGARI -1.267686   \n",
       "1777        Kilimani              NaN  WESTLANDS       KILIMANI -1.289279   \n",
       "1778       Lavington     Gitanga Road  WESTLANDS         MAZIWA -1.289890   \n",
       "1779      Kileleshwa             None  WESTLANDS     KILELESHWA -1.280739   \n",
       "1780        Kilimani    Kirichwa Road  WESTLANDS       KILIMANI -1.294215   \n",
       "\n",
       "      Longitude  \n",
       "0     36.791940  \n",
       "1     36.849247  \n",
       "2     36.769157  \n",
       "3     36.804754  \n",
       "4     36.815948  \n",
       "...         ...  \n",
       "1776  36.797797  \n",
       "1777  36.786931  \n",
       "1778  36.768148  \n",
       "1779  36.781686  \n",
       "1780  36.781781  \n",
       "\n",
       "[1781 rows x 16 columns]"
      ]
     },
     "execution_count": 27,
     "metadata": {},
     "output_type": "execute_result"
    }
   ],
   "source": [
    "df_rent"
   ]
  },
  {
   "cell_type": "code",
   "execution_count": 28,
   "metadata": {},
   "outputs": [
    {
     "data": {
      "text/plain": [
       "WESTLANDS    1691\n",
       "LANG'ATA       35\n",
       "KASARANI       27\n",
       "STAREHE        13\n",
       "KIBRA           7\n",
       "DAGORETTI       4\n",
       "EMBAKASI        3\n",
       "KAMUKUNJI       1\n",
       "Name: County, dtype: int64"
      ]
     },
     "execution_count": 28,
     "metadata": {},
     "output_type": "execute_result"
    }
   ],
   "source": [
    "df_rent['County'].value_counts()"
   ]
  },
  {
   "cell_type": "code",
   "execution_count": 29,
   "metadata": {},
   "outputs": [
    {
     "data": {
      "text/plain": [
       "<matplotlib.axes._subplots.AxesSubplot at 0x1a2781f550>"
      ]
     },
     "execution_count": 29,
     "metadata": {},
     "output_type": "execute_result"
    },
    {
     "data": {
      "image/png": "[encoded data removed]",
      "text/plain": [
       "<Figure size 720x720 with 1 Axes>"
      ]
     },
     "metadata": {
      "needs_background": "light"
     },
     "output_type": "display_data"
    }
   ],
   "source": [
    "# created bar chart to visualize county locations\n",
    "df_rent['County'].value_counts(ascending=True).plot(figsize= (10,10), fontsize=10,\n",
    "            title= 'Rental County Location',\n",
    "            legend=None, \n",
    "            kind='barh')"
   ]
  },
  {
   "cell_type": "code",
   "execution_count": 30,
   "metadata": {},
   "outputs": [
    {
     "data": {
      "image/png": "[encoded data removed]",
      "text/plain": [
       "<Figure size 1152x648 with 1 Axes>"
      ]
     },
     "metadata": {
      "needs_background": "light"
     },
     "output_type": "display_data"
    }
   ],
   "source": [
    "# set figure size\n",
    "plt.figure(figsize=(16, 9))\n",
    "\n",
    "# create scatterplot of SubCounty location and price.\n",
    "plt.scatter(df_rent['County'],\n",
    "            df_rent['price_USD']);\n",
    "\n",
    "plt.title(\"County Monthly Rental Price\", fontsize= 25)\n",
    "plt.ylabel(\"Monthly Rental Price\", fontsize = 20)\n",
    "plt.xlabel(\"County\", fontsize = 20);"
   ]
  },
  {
   "cell_type": "code",
   "execution_count": 31,
   "metadata": {},
   "outputs": [
    {
     "data": {
      "text/plain": [
       "KILIMANI           435\n",
       "MUTHANGARI         296\n",
       "MUTHAIGA           224\n",
       "KILELESHWA         171\n",
       "SPRING VALLEY      159\n",
       "LAVINGTON          115\n",
       "KITISURU            71\n",
       "MAZIWA              66\n",
       "LORESHO             61\n",
       "MT VIEW             48\n",
       "HIGHRIDGE           43\n",
       "KAREN               25\n",
       "SOUTH B              9\n",
       "ROYSAMBU             7\n",
       "GARDEN ESTATE        6\n",
       "NAIROBI WEST         5\n",
       "KAHAWA WEST          5\n",
       "KASARANI             4\n",
       "JAMHURI              4\n",
       "LANG'ATA             3\n",
       "KIBERA               2\n",
       "IMARA DAIMA          2\n",
       "RIRUTA               2\n",
       "SOUTH C              2\n",
       "MWIKI                1\n",
       "CLAY CITY            1\n",
       "GITHURAI             1\n",
       "UTHIRU               1\n",
       "KARURA               1\n",
       "GOLF COURSE          1\n",
       "EMBAKASI             1\n",
       "CITY CENTRE          1\n",
       "NGARA EAST           1\n",
       "PANGANI              1\n",
       "KAWANGWARE           1\n",
       "NYAYO                1\n",
       "BURUBURU             1\n",
       "CITY SQUARE          1\n",
       "KANGEMI CENTRAL      1\n",
       "RUARAKA              1\n",
       "Name: SubCounty, dtype: int64"
      ]
     },
     "execution_count": 31,
     "metadata": {},
     "output_type": "execute_result"
    }
   ],
   "source": [
    "df_rent['SubCounty'].value_counts()"
   ]
  },
  {
   "cell_type": "code",
   "execution_count": 32,
   "metadata": {},
   "outputs": [
    {
     "data": {
      "text/plain": [
       "<matplotlib.axes._subplots.AxesSubplot at 0x110407c10>"
      ]
     },
     "execution_count": 32,
     "metadata": {},
     "output_type": "execute_result"
    },
    {
     "data": {
      "image/png": "[encoded data removed]",
      "text/plain": [
       "<Figure size 864x864 with 1 Axes>"
      ]
     },
     "metadata": {
      "needs_background": "light"
     },
     "output_type": "display_data"
    }
   ],
   "source": [
    "# created bar chart to visualize Sub-County locations\n",
    "df_rent['SubCounty'].value_counts(ascending=True).plot(figsize= (12,12), fontsize=12,\n",
    "            title= 'Rental Sub-County Location',\n",
    "            legend=None, \n",
    "            kind='barh')"
   ]
  },
  {
   "cell_type": "code",
   "execution_count": 33,
   "metadata": {},
   "outputs": [
    {
     "data": {
      "image/png": "[encoded data removed]",
      "text/plain": [
       "<Figure size 1152x648 with 1 Axes>"
      ]
     },
     "metadata": {
      "needs_background": "light"
     },
     "output_type": "display_data"
    }
   ],
   "source": [
    "# set figure size\n",
    "plt.figure(figsize=(16, 9))\n",
    "\n",
    "# create scatterplot of SubCounty location and price.\n",
    "plt.scatter(df_rent['SubCounty'],\n",
    "            df_rent['price_USD']);\n",
    "\n",
    "plt.title(\"Sub-County Monthly Rental Price\", fontsize= 25)\n",
    "plt.ylabel(\"Monthly Rental Price\", fontsize = 20)\n",
    "plt.xticks(rotation=60)\n",
    "plt.xlabel(\"Sub-County\", fontsize = 20);"
   ]
  },
  {
   "cell_type": "code",
   "execution_count": 34,
   "metadata": {},
   "outputs": [
    {
     "data": {
      "text/plain": [
       "<matplotlib.axes._subplots.AxesSubplot at 0x1a2a427d50>"
      ]
     },
     "execution_count": 34,
     "metadata": {},
     "output_type": "execute_result"
    },
    {
     "data": {
      "image/png": "[encoded data removed]",
      "text/plain": [
       "<Figure size 432x288 with 1 Axes>"
      ]
     },
     "metadata": {
      "needs_background": "light"
     },
     "output_type": "display_data"
    }
   ],
   "source": [
    "df_rent['SubCounty'].hist()"
   ]
  },
  {
   "cell_type": "markdown",
   "metadata": {},
   "source": [
    "Extracted rental data was spread across 8 county location - Westlands, Dagoretti, Lang'ata, Kasarani, Embakasi, Kibra, Starehe, Kamukunji with the large majority of the advertisement location data scraped was in Westlands county (95% of extracted data). In looking at the monthly rental price within each county there is a wide range in monthly rental price for Westlands, Lang'ata and Kasarani. At the sub-county level there is also a wide range in rental prices across sib-counties with a right skew distribution in rental prices."
   ]
  },
  {
   "cell_type": "markdown",
   "metadata": {},
   "source": [
    "### Sale Data"
   ]
  },
  {
   "cell_type": "code",
   "execution_count": 35,
   "metadata": {},
   "outputs": [],
   "source": [
    "df_sale = df[(df.list_type == 'For Sale')]"
   ]
  },
  {
   "cell_type": "code",
   "execution_count": 36,
   "metadata": {},
   "outputs": [
    {
     "data": {
      "text/html": [
       "<div>\n",
       "<style scoped>\n",
       "    .dataframe tbody tr th:only-of-type {\n",
       "        vertical-align: middle;\n",
       "    }\n",
       "\n",
       "    .dataframe tbody tr th {\n",
       "        vertical-align: top;\n",
       "    }\n",
       "\n",
       "    .dataframe thead th {\n",
       "        text-align: right;\n",
       "    }\n",
       "</style>\n",
       "<table border=\"1\" class=\"dataframe\">\n",
       "  <thead>\n",
       "    <tr style=\"text-align: right;\">\n",
       "      <th></th>\n",
       "      <th>id</th>\n",
       "      <th>category</th>\n",
       "      <th>list_type</th>\n",
       "      <th>beds</th>\n",
       "      <th>baths</th>\n",
       "      <th>sq_ft_price</th>\n",
       "      <th>sq_ft_price_USD</th>\n",
       "      <th>price_KES</th>\n",
       "      <th>price_USD</th>\n",
       "      <th>district</th>\n",
       "      <th>neighborhood</th>\n",
       "      <th>street</th>\n",
       "      <th>County</th>\n",
       "      <th>SubCounty</th>\n",
       "      <th>Latitude</th>\n",
       "      <th>Longitude</th>\n",
       "    </tr>\n",
       "  </thead>\n",
       "  <tbody>\n",
       "    <tr>\n",
       "      <th>1781</th>\n",
       "      <td>3428432</td>\n",
       "      <td>Flat &amp; Apartment</td>\n",
       "      <td>For Sale</td>\n",
       "      <td>3</td>\n",
       "      <td>2</td>\n",
       "      <td>0</td>\n",
       "      <td>0.000000</td>\n",
       "      <td>18000000</td>\n",
       "      <td>169715.25550</td>\n",
       "      <td>Dagoretti North</td>\n",
       "      <td>Kileleshwa</td>\n",
       "      <td>Hamisi Road</td>\n",
       "      <td>WESTLANDS</td>\n",
       "      <td>KILELESHWA</td>\n",
       "      <td>-1.280739</td>\n",
       "      <td>36.781686</td>\n",
       "    </tr>\n",
       "    <tr>\n",
       "      <th>1782</th>\n",
       "      <td>3433663</td>\n",
       "      <td>Studio</td>\n",
       "      <td>For Sale</td>\n",
       "      <td>1</td>\n",
       "      <td>1</td>\n",
       "      <td>0</td>\n",
       "      <td>0.000000</td>\n",
       "      <td>2000000</td>\n",
       "      <td>18857.25061</td>\n",
       "      <td>Dagoretti North</td>\n",
       "      <td>Naivasha Road</td>\n",
       "      <td>None</td>\n",
       "      <td>WESTLANDS</td>\n",
       "      <td>MT VIEW</td>\n",
       "      <td>-1.272926</td>\n",
       "      <td>36.731603</td>\n",
       "    </tr>\n",
       "    <tr>\n",
       "      <th>1783</th>\n",
       "      <td>3433810</td>\n",
       "      <td>Flat &amp; Apartment</td>\n",
       "      <td>For Sale</td>\n",
       "      <td>3</td>\n",
       "      <td>4</td>\n",
       "      <td>7548</td>\n",
       "      <td>71.167264</td>\n",
       "      <td>13000000</td>\n",
       "      <td>122572.12900</td>\n",
       "      <td>Dagoretti North</td>\n",
       "      <td>Kilimani</td>\n",
       "      <td>Kilungu Road</td>\n",
       "      <td>WESTLANDS</td>\n",
       "      <td>KILIMANI</td>\n",
       "      <td>-1.294029</td>\n",
       "      <td>36.777502</td>\n",
       "    </tr>\n",
       "    <tr>\n",
       "      <th>1784</th>\n",
       "      <td>3433808</td>\n",
       "      <td>Studio</td>\n",
       "      <td>For Sale</td>\n",
       "      <td>1</td>\n",
       "      <td>1</td>\n",
       "      <td>10839</td>\n",
       "      <td>102.196870</td>\n",
       "      <td>3500000</td>\n",
       "      <td>33000.18857</td>\n",
       "      <td>Dagoretti North</td>\n",
       "      <td>Kilimani</td>\n",
       "      <td>Dennis Pritt</td>\n",
       "      <td>WESTLANDS</td>\n",
       "      <td>KILIMANI</td>\n",
       "      <td>-1.285543</td>\n",
       "      <td>36.788115</td>\n",
       "    </tr>\n",
       "    <tr>\n",
       "      <th>1785</th>\n",
       "      <td>3433877</td>\n",
       "      <td>Flat &amp; Apartment</td>\n",
       "      <td>For Sale</td>\n",
       "      <td>3</td>\n",
       "      <td>3</td>\n",
       "      <td>0</td>\n",
       "      <td>0.000000</td>\n",
       "      <td>15500000</td>\n",
       "      <td>146143.69220</td>\n",
       "      <td>Westlands</td>\n",
       "      <td>Parklands</td>\n",
       "      <td>None</td>\n",
       "      <td>WESTLANDS</td>\n",
       "      <td>MUTHAIGA</td>\n",
       "      <td>-1.259882</td>\n",
       "      <td>36.817892</td>\n",
       "    </tr>\n",
       "  </tbody>\n",
       "</table>\n",
       "</div>"
      ],
      "text/plain": [
       "           id          category list_type  beds  baths  sq_ft_price  \\\n",
       "1781  3428432  Flat & Apartment  For Sale     3      2            0   \n",
       "1782  3433663            Studio  For Sale     1      1            0   \n",
       "1783  3433810  Flat & Apartment  For Sale     3      4         7548   \n",
       "1784  3433808            Studio  For Sale     1      1        10839   \n",
       "1785  3433877  Flat & Apartment  For Sale     3      3            0   \n",
       "\n",
       "      sq_ft_price_USD  price_KES     price_USD         district  \\\n",
       "1781         0.000000   18000000  169715.25550  Dagoretti North   \n",
       "1782         0.000000    2000000   18857.25061  Dagoretti North   \n",
       "1783        71.167264   13000000  122572.12900  Dagoretti North   \n",
       "1784       102.196870    3500000   33000.18857  Dagoretti North   \n",
       "1785         0.000000   15500000  146143.69220        Westlands   \n",
       "\n",
       "       neighborhood        street     County   SubCounty  Latitude  Longitude  \n",
       "1781     Kileleshwa   Hamisi Road  WESTLANDS  KILELESHWA -1.280739  36.781686  \n",
       "1782  Naivasha Road          None  WESTLANDS     MT VIEW -1.272926  36.731603  \n",
       "1783       Kilimani  Kilungu Road  WESTLANDS    KILIMANI -1.294029  36.777502  \n",
       "1784       Kilimani  Dennis Pritt  WESTLANDS    KILIMANI -1.285543  36.788115  \n",
       "1785      Parklands          None  WESTLANDS    MUTHAIGA -1.259882  36.817892  "
      ]
     },
     "execution_count": 36,
     "metadata": {},
     "output_type": "execute_result"
    }
   ],
   "source": [
    "df_sale.head()"
   ]
  },
  {
   "cell_type": "code",
   "execution_count": 37,
   "metadata": {},
   "outputs": [
    {
     "data": {
      "text/plain": [
       "WESTLANDS    1655\n",
       "KASARANI       41\n",
       "STAREHE        32\n",
       "LANG'ATA       32\n",
       "KIBRA          24\n",
       "EMBAKASI       16\n",
       "DAGORETTI      12\n",
       "KAMUKUNJI       7\n",
       "Name: County, dtype: int64"
      ]
     },
     "execution_count": 37,
     "metadata": {},
     "output_type": "execute_result"
    }
   ],
   "source": [
    "df_sale['County'].value_counts()"
   ]
  },
  {
   "cell_type": "code",
   "execution_count": 38,
   "metadata": {
    "scrolled": true
   },
   "outputs": [
    {
     "data": {
      "text/plain": [
       "<matplotlib.axes._subplots.AxesSubplot at 0x1a1e557210>"
      ]
     },
     "execution_count": 38,
     "metadata": {},
     "output_type": "execute_result"
    },
    {
     "data": {
      "image/png": "[encoded data removed]",
      "text/plain": [
       "<Figure size 720x720 with 1 Axes>"
      ]
     },
     "metadata": {
      "needs_background": "light"
     },
     "output_type": "display_data"
    }
   ],
   "source": [
    "# created bar chart to visualize county locations\n",
    "df_sale['County'].value_counts(ascending=True).plot(figsize= (10,10), fontsize=10,\n",
    "            title= 'Sale Advertisements by County Location',\n",
    "            legend=None, \n",
    "            kind='barh')"
   ]
  },
  {
   "cell_type": "code",
   "execution_count": 39,
   "metadata": {},
   "outputs": [
    {
     "data": {
      "image/png": "[encoded data removed]",
      "text/plain": [
       "<Figure size 1152x648 with 1 Axes>"
      ]
     },
     "metadata": {
      "needs_background": "light"
     },
     "output_type": "display_data"
    }
   ],
   "source": [
    "# set figure size\n",
    "plt.figure(figsize=(16, 9))\n",
    "\n",
    "# create scatterplot of County location and price.\n",
    "plt.scatter(df_sale['County'],\n",
    "            df_sale['price_USD']);\n",
    "\n",
    "plt.title(\"County Sale Price\", fontsize= 25)\n",
    "plt.ylabel(\"Sale Price\", fontsize = 25)\n",
    "plt.xlabel(\"County\", fontsize = 25);"
   ]
  },
  {
   "cell_type": "code",
   "execution_count": 40,
   "metadata": {},
   "outputs": [
    {
     "data": {
      "text/plain": [
       "KILIMANI           699\n",
       "KILELESHWA         355\n",
       "LAVINGTON          160\n",
       "MUTHAIGA           115\n",
       "MUTHANGARI         103\n",
       "SPRING VALLEY       84\n",
       "MAZIWA              83\n",
       "KITISURU            31\n",
       "JAMHURI             15\n",
       "MT VIEW             14\n",
       "KASARANI            14\n",
       "IMARA DAIMA         13\n",
       "KAHAWA WEST         13\n",
       "SOUTH C             13\n",
       "SOUTH B             12\n",
       "PANGANI             10\n",
       "LORESHO              9\n",
       "RIRUTA               9\n",
       "KIBERA               9\n",
       "LANG'ATA             9\n",
       "NGARA EAST           8\n",
       "NAIROBI WEST         6\n",
       "BURUBURU             6\n",
       "CLAY CITY            5\n",
       "GARDEN ESTATE        4\n",
       "NYAYO                3\n",
       "UTHIRU               3\n",
       "KANGEMI CENTRAL      2\n",
       "KAREN                2\n",
       "DONHOLM              2\n",
       "RUARAKA              1\n",
       "CALIFORNIA           1\n",
       "CITY SQUARE          1\n",
       "CITY CENTRE          1\n",
       "HIGHRIDGE            1\n",
       "UTAWALA              1\n",
       "GITHURAI             1\n",
       "HARDY                1\n",
       "Name: SubCounty, dtype: int64"
      ]
     },
     "execution_count": 40,
     "metadata": {},
     "output_type": "execute_result"
    }
   ],
   "source": [
    "df_sale['SubCounty'].value_counts()"
   ]
  },
  {
   "cell_type": "code",
   "execution_count": 41,
   "metadata": {},
   "outputs": [
    {
     "data": {
      "text/plain": [
       "<matplotlib.axes._subplots.AxesSubplot at 0x1a1e6b5250>"
      ]
     },
     "execution_count": 41,
     "metadata": {},
     "output_type": "execute_result"
    },
    {
     "data": {
      "image/png": "[encoded data removed]",
      "text/plain": [
       "<Figure size 864x864 with 1 Axes>"
      ]
     },
     "metadata": {
      "needs_background": "light"
     },
     "output_type": "display_data"
    }
   ],
   "source": [
    "# created bar chart to visualize Sub-County locations\n",
    "df_sale['SubCounty'].value_counts(ascending=True).plot(figsize= (12,12), fontsize=12,\n",
    "            title= 'Sale Advertisements by County Location',\n",
    "            legend=None, \n",
    "            kind='barh')"
   ]
  },
  {
   "cell_type": "code",
   "execution_count": 42,
   "metadata": {},
   "outputs": [
    {
     "data": {
      "text/plain": [
       "<matplotlib.axes._subplots.AxesSubplot at 0x1a2a387a90>"
      ]
     },
     "execution_count": 42,
     "metadata": {},
     "output_type": "execute_result"
    },
    {
     "data": {
      "image/png": "[encoded data removed]",
      "text/plain": [
       "<Figure size 432x288 with 1 Axes>"
      ]
     },
     "metadata": {
      "needs_background": "light"
     },
     "output_type": "display_data"
    }
   ],
   "source": [
    "df_sale['SubCounty'].hist()"
   ]
  },
  {
   "cell_type": "code",
   "execution_count": 43,
   "metadata": {},
   "outputs": [
    {
     "data": {
      "image/png": "[encoded data removed]",
      "text/plain": [
       "<Figure size 864x864 with 1 Axes>"
      ]
     },
     "metadata": {
      "needs_background": "light"
     },
     "output_type": "display_data"
    }
   ],
   "source": [
    "# set figure size\n",
    "plt.figure(figsize=(12, 12))\n",
    "\n",
    "# create scatterplot of County location and price.\n",
    "plt.scatter(df_sale['SubCounty'],\n",
    "            df_sale['price_USD']);\n",
    "\n",
    "plt.title(\"Sub-County Sale Price\", fontsize= 25)\n",
    "plt.ylabel(\"Sale Price\", fontsize = 25)\n",
    "plt.xticks(rotation=60)\n",
    "plt.xlabel(\"Sub-County\", fontsize = 25);"
   ]
  },
  {
   "cell_type": "markdown",
   "metadata": {},
   "source": [
    "Extracted real estate sale data was spread across 8 counties 39 sub-county locations In Nairobi City. Similar to rental data, Westlands county dominated the advert locations for sale properties. In terms of sub-county data, the large portion of the advertisement locations scraped were in Kilimani and Keleleshwa sub-county (37% and 20%). In looking at the sub-county level sale price data, there is a wide range in sale prices due to a outlier in prices which is highlighted in Muthaiga, Muthangari and Jamhuri sub-counties."
   ]
  }
 ],
 "metadata": {
  "kernelspec": {
   "display_name": "Python 3",
   "language": "python",
   "name": "python3"
  },
  "language_info": {
   "codemirror_mode": {
    "name": "ipython",
    "version": 3
   },
   "file_extension": ".py",
   "mimetype": "text/x-python",
   "name": "python",
   "nbconvert_exporter": "python",
   "pygments_lexer": "ipython3",
   "version": "3.7.6"
  }
 },
 "nbformat": 4,
 "nbformat_minor": 4
}
