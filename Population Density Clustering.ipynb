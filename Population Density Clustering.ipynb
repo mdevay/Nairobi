{
 "cells": [
  {
   "cell_type": "markdown",
   "metadata": {},
   "source": [
    "# Clustering - Population Density"
   ]
  },
  {
   "cell_type": "markdown",
   "metadata": {},
   "source": [
    "\n",
    "### Imports"
   ]
  },
  {
   "cell_type": "code",
   "execution_count": 116,
   "metadata": {},
   "outputs": [],
   "source": [
    "import pandas as pd\n",
    "from sklearn.preprocessing import StandardScaler\n",
    "from sklearn.cluster import KMeans, DBSCAN\n",
    "from sklearn.metrics import silhouette_score\n",
    "from sklearn.model_selection import GridSearchCV, train_test_split\n",
    "from sklearn.pipeline import Pipeline"
   ]
  },
  {
   "cell_type": "code",
   "execution_count": 117,
   "metadata": {},
   "outputs": [
    {
     "data": {
      "text/html": [
       "<div>\n",
       "<style scoped>\n",
       "    .dataframe tbody tr th:only-of-type {\n",
       "        vertical-align: middle;\n",
       "    }\n",
       "\n",
       "    .dataframe tbody tr th {\n",
       "        vertical-align: top;\n",
       "    }\n",
       "\n",
       "    .dataframe thead th {\n",
       "        text-align: right;\n",
       "    }\n",
       "</style>\n",
       "<table border=\"1\" class=\"dataframe\">\n",
       "  <thead>\n",
       "    <tr style=\"text-align: right;\">\n",
       "      <th></th>\n",
       "      <th>Lat</th>\n",
       "      <th>Lon</th>\n",
       "      <th>Population</th>\n",
       "    </tr>\n",
       "  </thead>\n",
       "  <tbody>\n",
       "    <tr>\n",
       "      <th>0</th>\n",
       "      <td>-1.050139</td>\n",
       "      <td>36.698194</td>\n",
       "      <td>4.18689</td>\n",
       "    </tr>\n",
       "    <tr>\n",
       "      <th>1</th>\n",
       "      <td>-1.050139</td>\n",
       "      <td>36.699306</td>\n",
       "      <td>4.18689</td>\n",
       "    </tr>\n",
       "    <tr>\n",
       "      <th>2</th>\n",
       "      <td>-1.050139</td>\n",
       "      <td>36.699583</td>\n",
       "      <td>4.18689</td>\n",
       "    </tr>\n",
       "  </tbody>\n",
       "</table>\n",
       "</div>"
      ],
      "text/plain": [
       "        Lat        Lon  Population\n",
       "0 -1.050139  36.698194     4.18689\n",
       "1 -1.050139  36.699306     4.18689\n",
       "2 -1.050139  36.699583     4.18689"
      ]
     },
     "execution_count": 117,
     "metadata": {},
     "output_type": "execute_result"
    }
   ],
   "source": [
    "pop_df = pd.read_csv('./datasets/Nairobi_Area_Population_Grid.csv')\n",
    "pop_df = pop_df.drop(columns='Unnamed: 0')\n",
    "\n",
    "pop_df.head(3)"
   ]
  },
  {
   "cell_type": "markdown",
   "metadata": {},
   "source": [
    "---\n",
    "### Clean"
   ]
  },
  {
   "cell_type": "code",
   "execution_count": 118,
   "metadata": {},
   "outputs": [],
   "source": [
    "# try to filter up to 4 or 5 to drop for Population\n",
    "pop_gt_4 = pop_df[pop_df['Population']>4].copy()"
   ]
  },
  {
   "cell_type": "markdown",
   "metadata": {},
   "source": [
    "---\n",
    "### Model"
   ]
  },
  {
   "cell_type": "code",
   "execution_count": 119,
   "metadata": {},
   "outputs": [],
   "source": [
    "def kmeans(X, n=8):\n",
    "    \n",
    "    '''\n",
    "    Enter a dataframe (X_base) and amount of clusters (n) for kmeans>\n",
    "    The function will \n",
    "        -fit a KMeans model will n clusters,\n",
    "        -append cluster labels to X_base dataframe\n",
    "        -create a centroids groupby object for graphing\n",
    "    \n",
    "    returns (dataframe with cluster labels, centroid groupby object)\n",
    "    '''\n",
    "    \n",
    "    km = KMeans(n_clusters=n)\n",
    "    km.fit(X)\n",
    "\n",
    "    X_df = X\n",
    "    X_df['clusters'] = km.labels_\n",
    "\n",
    "    # create centroids for graphing\n",
    "    centroids = X_df.groupby('clusters')[['Lat', 'Lon']].mean()\n",
    "    return X_df, centroids, km"
   ]
  },
  {
   "cell_type": "code",
   "execution_count": 120,
   "metadata": {},
   "outputs": [],
   "source": [
    "# X features from Latitude and Longitude\n",
    "X = pop_df.drop(\"Population\", axis=1)\n",
    "\n",
    "# fit kmeans model\n",
    "km = KMeans(n_clusters=28, random_state=510)\n",
    "km.fit(X)\n",
    "\n",
    "pop_df['clusters'] = km.labels_\n",
    "centroids = pop_df.groupby('clusters')[['Lat', 'Lon']].mean()\n",
    "    \n",
    "# ## Plot scatter by cluster / color, and centroids\n",
    "# colors = ['red', 'green', 'blue', 'purple', 'black', 'yellow', 'orange', 'pink']\n",
    "# pop_df['color'] = pop_df['clusters'].map(lambda p: colors[p])\n",
    "\n",
    "# ax = X.plot(    \n",
    "#     kind=\"scatter\", \n",
    "#     x='Lat', y='Lon',\n",
    "#     figsize=(10,8),\n",
    "#     c = pop_df['color']\n",
    "# )\n",
    "\n",
    "# centroids.plot(\n",
    "#     kind=\"scatter\", \n",
    "#     x=\"Lat\", y=\"Lon\", \n",
    "#     marker=\"*\", c=[\"red\", \"green\", \"blue\", \"purple\", \"black\", \"yellow\", \"orange\", \"pink\"], s=550,\n",
    "#     ax=ax\n",
    "# );"
   ]
  },
  {
   "cell_type": "code",
   "execution_count": 121,
   "metadata": {},
   "outputs": [
    {
     "data": {
      "text/plain": [
       "0.5935634891460033"
      ]
     },
     "execution_count": 121,
     "metadata": {},
     "output_type": "execute_result"
    }
   ],
   "source": [
    "silhouette_score(X.head(20_000), km.labels_[:20_000])"
   ]
  },
  {
   "cell_type": "code",
   "execution_count": 130,
   "metadata": {},
   "outputs": [],
   "source": [
    "# X features from Latitude and Longitude\n",
    "X = pop_gt_4.drop('Population', axis=1)\n",
    "\n",
    "# fit kmeans model\n",
    "km = KMeans(n_clusters=28, random_state=510)\n",
    "km.fit(X)\n",
    "\n",
    "pop_gt_4['clusters'] = km.labels_\n",
    "centroids = pop_gt_4.groupby('clusters')[['Lat', 'Lon']].mean()\n",
    "    \n",
    "# ## Plot scatter by cluster / color, and centroids\n",
    "# colors = [(x/10.0, x/20.0, 0.75) for x in range(28)]\n",
    "# #pop_gt_4['color'] = pop_gt_4['clusters'].map(lambda p: colors[p])\n",
    "\n",
    "# ax = X.plot(    \n",
    "#     kind=\"scatter\", \n",
    "#     x='Lat', y='Lon',\n",
    "#     figsize=(10,8),\n",
    "#     #c = pop_gt_4['color']\n",
    "# )\n",
    "\n",
    "# centroids.plot(\n",
    "#     kind=\"scatter\", \n",
    "#     x=\"Lat\", y=\"Lon\", \n",
    "#     marker=\"*\", #c=[(x/10.0, x/20.0, 0.75) for x in range(len(28))], s=550,\n",
    "#     ax=ax\n",
    "# );"
   ]
  },
  {
   "cell_type": "code",
   "execution_count": 131,
   "metadata": {},
   "outputs": [
    {
     "data": {
      "text/plain": [
       "0.9775180339134651"
      ]
     },
     "execution_count": 131,
     "metadata": {},
     "output_type": "execute_result"
    }
   ],
   "source": [
    "silhouette_score(X.head(20_000), km.labels_[:20_000])"
   ]
  },
  {
   "cell_type": "code",
   "execution_count": 127,
   "metadata": {},
   "outputs": [
    {
     "data": {
      "text/plain": [
       "0.6816675879507758"
      ]
     },
     "execution_count": 127,
     "metadata": {},
     "output_type": "execute_result"
    }
   ],
   "source": [
    "# see if scaling has an effect -- it shouldn't, but just in case\n",
    "ss = StandardScaler()\n",
    "Z = ss.fit_transform(X)\n",
    "\n",
    "km = KMeans(n_clusters=20, random_state=510)\n",
    "km.fit(Z)\n",
    "\n",
    "pop_gt_4_sc = pop_gt_4.copy()\n",
    "pop_gt_4_sc['clusters'] = km.labels_\n",
    "centroids = pop_gt_4_sc.groupby('clusters')[['Lat', 'Lon']].mean()\n",
    "\n",
    "silhouette_score(Z[:20_000], km.labels_[:20_000])"
   ]
  },
  {
   "cell_type": "markdown",
   "metadata": {},
   "source": [
    ">Scaling has a negative effect"
   ]
  },
  {
   "cell_type": "code",
   "execution_count": 135,
   "metadata": {},
   "outputs": [
    {
     "data": {
      "text/html": [
       "<div>\n",
       "<style scoped>\n",
       "    .dataframe tbody tr th:only-of-type {\n",
       "        vertical-align: middle;\n",
       "    }\n",
       "\n",
       "    .dataframe tbody tr th {\n",
       "        vertical-align: top;\n",
       "    }\n",
       "\n",
       "    .dataframe thead th {\n",
       "        text-align: right;\n",
       "    }\n",
       "</style>\n",
       "<table border=\"1\" class=\"dataframe\">\n",
       "  <thead>\n",
       "    <tr style=\"text-align: right;\">\n",
       "      <th></th>\n",
       "      <th>Lat</th>\n",
       "      <th>Lon</th>\n",
       "    </tr>\n",
       "    <tr>\n",
       "      <th>clusters</th>\n",
       "      <th></th>\n",
       "      <th></th>\n",
       "    </tr>\n",
       "  </thead>\n",
       "  <tbody>\n",
       "    <tr>\n",
       "      <th>0</th>\n",
       "      <td>-1.207695</td>\n",
       "      <td>36.875717</td>\n",
       "    </tr>\n",
       "    <tr>\n",
       "      <th>1</th>\n",
       "      <td>-1.162395</td>\n",
       "      <td>36.931332</td>\n",
       "    </tr>\n",
       "    <tr>\n",
       "      <th>2</th>\n",
       "      <td>-1.215520</td>\n",
       "      <td>36.735610</td>\n",
       "    </tr>\n",
       "    <tr>\n",
       "      <th>3</th>\n",
       "      <td>-1.267139</td>\n",
       "      <td>36.946447</td>\n",
       "    </tr>\n",
       "    <tr>\n",
       "      <th>4</th>\n",
       "      <td>-1.090535</td>\n",
       "      <td>37.007059</td>\n",
       "    </tr>\n",
       "    <tr>\n",
       "      <th>5</th>\n",
       "      <td>-1.257286</td>\n",
       "      <td>36.881036</td>\n",
       "    </tr>\n",
       "    <tr>\n",
       "      <th>6</th>\n",
       "      <td>-1.153336</td>\n",
       "      <td>36.821927</td>\n",
       "    </tr>\n",
       "    <tr>\n",
       "      <th>7</th>\n",
       "      <td>-1.372299</td>\n",
       "      <td>36.938266</td>\n",
       "    </tr>\n",
       "    <tr>\n",
       "      <th>8</th>\n",
       "      <td>-1.264971</td>\n",
       "      <td>36.683754</td>\n",
       "    </tr>\n",
       "    <tr>\n",
       "      <th>9</th>\n",
       "      <td>-1.080610</td>\n",
       "      <td>36.717137</td>\n",
       "    </tr>\n",
       "    <tr>\n",
       "      <th>10</th>\n",
       "      <td>-1.233153</td>\n",
       "      <td>36.798440</td>\n",
       "    </tr>\n",
       "    <tr>\n",
       "      <th>11</th>\n",
       "      <td>-1.295349</td>\n",
       "      <td>36.839518</td>\n",
       "    </tr>\n",
       "    <tr>\n",
       "      <th>12</th>\n",
       "      <td>-1.301778</td>\n",
       "      <td>36.786201</td>\n",
       "    </tr>\n",
       "    <tr>\n",
       "      <th>13</th>\n",
       "      <td>-1.276820</td>\n",
       "      <td>36.740696</td>\n",
       "    </tr>\n",
       "    <tr>\n",
       "      <th>14</th>\n",
       "      <td>-1.209419</td>\n",
       "      <td>36.944245</td>\n",
       "    </tr>\n",
       "    <tr>\n",
       "      <th>15</th>\n",
       "      <td>-1.137990</td>\n",
       "      <td>36.670029</td>\n",
       "    </tr>\n",
       "    <tr>\n",
       "      <th>16</th>\n",
       "      <td>-1.166450</td>\n",
       "      <td>36.760803</td>\n",
       "    </tr>\n",
       "    <tr>\n",
       "      <th>17</th>\n",
       "      <td>-1.314394</td>\n",
       "      <td>36.890223</td>\n",
       "    </tr>\n",
       "    <tr>\n",
       "      <th>18</th>\n",
       "      <td>-1.079514</td>\n",
       "      <td>37.079075</td>\n",
       "    </tr>\n",
       "    <tr>\n",
       "      <th>19</th>\n",
       "      <td>-1.372535</td>\n",
       "      <td>36.745909</td>\n",
       "    </tr>\n",
       "    <tr>\n",
       "      <th>20</th>\n",
       "      <td>-1.480635</td>\n",
       "      <td>36.950068</td>\n",
       "    </tr>\n",
       "    <tr>\n",
       "      <th>21</th>\n",
       "      <td>-1.209395</td>\n",
       "      <td>36.675227</td>\n",
       "    </tr>\n",
       "    <tr>\n",
       "      <th>22</th>\n",
       "      <td>-1.079592</td>\n",
       "      <td>36.783558</td>\n",
       "    </tr>\n",
       "    <tr>\n",
       "      <th>23</th>\n",
       "      <td>-1.083009</td>\n",
       "      <td>36.850335</td>\n",
       "    </tr>\n",
       "    <tr>\n",
       "      <th>24</th>\n",
       "      <td>-1.357296</td>\n",
       "      <td>36.670068</td>\n",
       "    </tr>\n",
       "    <tr>\n",
       "      <th>25</th>\n",
       "      <td>-1.414819</td>\n",
       "      <td>36.693547</td>\n",
       "    </tr>\n",
       "    <tr>\n",
       "      <th>26</th>\n",
       "      <td>-1.449873</td>\n",
       "      <td>36.984263</td>\n",
       "    </tr>\n",
       "    <tr>\n",
       "      <th>27</th>\n",
       "      <td>-1.057989</td>\n",
       "      <td>36.919812</td>\n",
       "    </tr>\n",
       "  </tbody>\n",
       "</table>\n",
       "</div>"
      ],
      "text/plain": [
       "               Lat        Lon\n",
       "clusters                     \n",
       "0        -1.207695  36.875717\n",
       "1        -1.162395  36.931332\n",
       "2        -1.215520  36.735610\n",
       "3        -1.267139  36.946447\n",
       "4        -1.090535  37.007059\n",
       "5        -1.257286  36.881036\n",
       "6        -1.153336  36.821927\n",
       "7        -1.372299  36.938266\n",
       "8        -1.264971  36.683754\n",
       "9        -1.080610  36.717137\n",
       "10       -1.233153  36.798440\n",
       "11       -1.295349  36.839518\n",
       "12       -1.301778  36.786201\n",
       "13       -1.276820  36.740696\n",
       "14       -1.209419  36.944245\n",
       "15       -1.137990  36.670029\n",
       "16       -1.166450  36.760803\n",
       "17       -1.314394  36.890223\n",
       "18       -1.079514  37.079075\n",
       "19       -1.372535  36.745909\n",
       "20       -1.480635  36.950068\n",
       "21       -1.209395  36.675227\n",
       "22       -1.079592  36.783558\n",
       "23       -1.083009  36.850335\n",
       "24       -1.357296  36.670068\n",
       "25       -1.414819  36.693547\n",
       "26       -1.449873  36.984263\n",
       "27       -1.057989  36.919812"
      ]
     },
     "execution_count": 135,
     "metadata": {},
     "output_type": "execute_result"
    }
   ],
   "source": [
    "pop_gt_4.groupby('clusters')[['Lat', 'Lon']].mean()"
   ]
  },
  {
   "cell_type": "code",
   "execution_count": 136,
   "metadata": {},
   "outputs": [
    {
     "data": {
      "text/plain": [
       "['kasarani', 'outside', 'outside', 'njiru', 'outside', 'kasarani']"
      ]
     },
     "execution_count": 136,
     "metadata": {},
     "output_type": "execute_result"
    }
   ],
   "source": [
    "['kasarani',\n",
    " 'outside',\n",
    " 'outside',\n",
    " 'njiru',\n",
    " 'outside',\n",
    " 'kasarani']"
   ]
  },
  {
   "cell_type": "code",
   "execution_count": 140,
   "metadata": {},
   "outputs": [
    {
     "data": {
      "text/plain": [
       "clusters\n",
       "5     104.363850\n",
       "17     49.700944\n",
       "11     42.291724\n",
       "3      39.948168\n",
       "13     36.169043\n",
       "12     33.249166\n",
       "14     23.824825\n",
       "0      20.531028\n",
       "1      16.712763\n",
       "19     14.295680\n",
       "6      13.985396\n",
       "8      12.801498\n",
       "24     12.224217\n",
       "2      11.200338\n",
       "16     11.029175\n",
       "10     10.966820\n",
       "26     10.050672\n",
       "7       9.244917\n",
       "21      8.836380\n",
       "25      7.703288\n",
       "18      7.653544\n",
       "15      6.789173\n",
       "4       6.786063\n",
       "23      6.375374\n",
       "27      6.290614\n",
       "22      6.268175\n",
       "9       5.144413\n",
       "20      4.889093\n",
       "Name: Population, dtype: float64"
      ]
     },
     "execution_count": 140,
     "metadata": {},
     "output_type": "execute_result"
    }
   ],
   "source": [
    "pop_gt_4.groupby('clusters')['Population'].mean().sort_values(ascending=False)"
   ]
  }
 ],
 "metadata": {
  "kernelspec": {
   "display_name": "Python 3",
   "language": "python",
   "name": "python3"
  },
  "language_info": {
   "codemirror_mode": {
    "name": "ipython",
    "version": 3
   },
   "file_extension": ".py",
   "mimetype": "text/x-python",
   "name": "python",
   "nbconvert_exporter": "python",
   "pygments_lexer": "ipython3",
   "version": "3.6.9"
  }
 },
 "nbformat": 4,
 "nbformat_minor": 2
}
