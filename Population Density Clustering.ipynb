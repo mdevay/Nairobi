{
 "cells": [
  {
   "cell_type": "markdown",
   "metadata": {},
   "source": [
    "# Clustering - Population Density"
   ]
  },
  {
   "cell_type": "markdown",
   "metadata": {},
   "source": [
    "\n",
    "### Imports"
   ]
  },
  {
   "cell_type": "code",
   "execution_count": 40,
   "metadata": {},
   "outputs": [],
   "source": [
    "import pandas as pd\n",
    "from sklearn.preprocessing import StandardScaler\n",
    "from sklearn.cluster import KMeans, DBSCAN\n",
    "from sklearn.metrics import silhouette_score\n",
    "from sklearn.model_selection import GridSearchCV, train_test_split\n",
    "from sklearn.pipeline import Pipeline\n",
    "import matplotlib.pyplot as plt"
   ]
  },
  {
   "cell_type": "code",
   "execution_count": 41,
   "metadata": {},
   "outputs": [
    {
     "data": {
      "text/html": [
       "<div>\n",
       "<style scoped>\n",
       "    .dataframe tbody tr th:only-of-type {\n",
       "        vertical-align: middle;\n",
       "    }\n",
       "\n",
       "    .dataframe tbody tr th {\n",
       "        vertical-align: top;\n",
       "    }\n",
       "\n",
       "    .dataframe thead th {\n",
       "        text-align: right;\n",
       "    }\n",
       "</style>\n",
       "<table border=\"1\" class=\"dataframe\">\n",
       "  <thead>\n",
       "    <tr style=\"text-align: right;\">\n",
       "      <th></th>\n",
       "      <th>Unnamed: 0</th>\n",
       "      <th>Lat</th>\n",
       "      <th>Lon</th>\n",
       "      <th>Population</th>\n",
       "    </tr>\n",
       "  </thead>\n",
       "  <tbody>\n",
       "    <tr>\n",
       "      <th>0</th>\n",
       "      <td>9429455</td>\n",
       "      <td>-1.050139</td>\n",
       "      <td>36.698194</td>\n",
       "      <td>4.18689</td>\n",
       "    </tr>\n",
       "    <tr>\n",
       "      <th>1</th>\n",
       "      <td>9429456</td>\n",
       "      <td>-1.050139</td>\n",
       "      <td>36.699306</td>\n",
       "      <td>4.18689</td>\n",
       "    </tr>\n",
       "    <tr>\n",
       "      <th>2</th>\n",
       "      <td>9429457</td>\n",
       "      <td>-1.050139</td>\n",
       "      <td>36.699583</td>\n",
       "      <td>4.18689</td>\n",
       "    </tr>\n",
       "  </tbody>\n",
       "</table>\n",
       "</div>"
      ],
      "text/plain": [
       "   Unnamed: 0       Lat        Lon  Population\n",
       "0     9429455 -1.050139  36.698194     4.18689\n",
       "1     9429456 -1.050139  36.699306     4.18689\n",
       "2     9429457 -1.050139  36.699583     4.18689"
      ]
     },
     "execution_count": 41,
     "metadata": {},
     "output_type": "execute_result"
    }
   ],
   "source": [
    "pop_df = pd.read_csv('./datasets/Nairobi_Area_Population_Grid.csv')\n",
    "pop_df.head(3)"
   ]
  },
  {
   "cell_type": "markdown",
   "metadata": {},
   "source": [
    "---\n",
    "### Model"
   ]
  },
  {
   "cell_type": "code",
   "execution_count": 59,
   "metadata": {},
   "outputs": [],
   "source": [
    "def best_model(pop_df, pop_min):\n",
    "    '''\n",
    "    Creates a KMeans model for filtered dataframe\n",
    "    and returns silhouette score from sample of 20,000 random entries from dataframe.\n",
    "    \n",
    "    Manually grid searches for k values in range(25,30).\n",
    "    '''\n",
    "    X = pop_df[pop_df['Population'] > pop_min].copy()\n",
    "    \n",
    "    scores = []\n",
    "    for k in range(23, 30):\n",
    "        cl = KMeans(n_clusters=k, random_state=510)    \n",
    "        cl.fit(X)\n",
    "        X['clusters'] = cl.labels_\n",
    "        X = X.sample(20_000, random_state=510)\n",
    "        sil = silhouette_score(X.drop(columns='clusters'), X.clusters)\n",
    "        scores.append([k, sil])\n",
    "\n",
    "    score_df = pd.DataFrame(scores)\n",
    "    score_df.columns = ['k', 'silhouette']\n",
    "    return score_df"
   ]
  },
  {
   "cell_type": "code",
   "execution_count": 43,
   "metadata": {},
   "outputs": [],
   "source": [
    "def best_sil(score_df):\n",
    "    '''\n",
    "    Creates plot comparing silhouette scores for different k values for KMeans.\n",
    "    '''\n",
    "    fig, ax = plt.subplots(figsize=(14, 7))\n",
    "    ax.plot(score_df.k, score_df.silhouette);\n",
    "    ax.set_title('Silhouette Score over k')"
   ]
  },
  {
   "cell_type": "markdown",
   "metadata": {},
   "source": [
    "#### Population > 2\n",
    "\n",
    ">results: k = 25, silhouette = 0.53"
   ]
  },
  {
   "cell_type": "code",
   "execution_count": 44,
   "metadata": {},
   "outputs": [
    {
     "name": "stdout",
     "output_type": "stream",
     "text": [
      "    k  silhouette\n",
      "1  26    0.532864\n"
     ]
    }
   ],
   "source": [
    "score_df = best_model(pop_df, 2)\n",
    "print(score_df.sort_values('silhouette', ascending=False).head(1))"
   ]
  },
  {
   "cell_type": "markdown",
   "metadata": {},
   "source": [
    "#### Population > 4\n",
    "\n",
    "> results: k = 27, silhouette = 0.54"
   ]
  },
  {
   "cell_type": "code",
   "execution_count": 66,
   "metadata": {},
   "outputs": [
    {
     "name": "stdout",
     "output_type": "stream",
     "text": [
      "    k  silhouette\n",
      "4  27    0.540471\n"
     ]
    }
   ],
   "source": [
    "score_df = best_model(pop_df, 4)\n",
    "print(score_df.sort_values('silhouette', ascending = False).head(1))"
   ]
  },
  {
   "cell_type": "markdown",
   "metadata": {},
   "source": [
    "#### Population > 6\n",
    "\n",
    ">results: k = 26, silhouette = 0.538"
   ]
  },
  {
   "cell_type": "code",
   "execution_count": 46,
   "metadata": {},
   "outputs": [
    {
     "name": "stdout",
     "output_type": "stream",
     "text": [
      "    k  silhouette\n",
      "0  25    0.539251\n"
     ]
    }
   ],
   "source": [
    "score_df = best_model(pop_df, 6)\n",
    "print(score_df.sort_values('silhouette', ascending=False).head(1))"
   ]
  },
  {
   "cell_type": "markdown",
   "metadata": {},
   "source": [
    "#### Population > 7\n",
    "\n",
    "> results: k = 25, silouette = 0.539"
   ]
  },
  {
   "cell_type": "code",
   "execution_count": 47,
   "metadata": {},
   "outputs": [
    {
     "name": "stdout",
     "output_type": "stream",
     "text": [
      "    k  silhouette\n",
      "0  25    0.538799\n"
     ]
    }
   ],
   "source": [
    "score_df = best_model(pop_df, 7)\n",
    "print(score_df.sort_values('silhouette', ascending=False).head(1))"
   ]
  },
  {
   "cell_type": "markdown",
   "metadata": {},
   "source": [
    "#### Population > 8\n",
    "\n",
    ">results: k = 28, silhouette = 0.536"
   ]
  },
  {
   "cell_type": "code",
   "execution_count": 48,
   "metadata": {},
   "outputs": [
    {
     "name": "stdout",
     "output_type": "stream",
     "text": [
      "    k  silhouette\n",
      "1  26    0.536481\n"
     ]
    }
   ],
   "source": [
    "score_df = best_model(pop_df, 8)\n",
    "print(score_df.sort_values('silhouette', ascending=False).head(1))"
   ]
  },
  {
   "cell_type": "markdown",
   "metadata": {},
   "source": [
    "---\n",
    "#### Percentage of data for model"
   ]
  },
  {
   "cell_type": "code",
   "execution_count": 49,
   "metadata": {},
   "outputs": [
    {
     "data": {
      "text/plain": [
       "0.7408878221747514"
      ]
     },
     "execution_count": 49,
     "metadata": {},
     "output_type": "execute_result"
    }
   ],
   "source": [
    "pop_df[pop_df['Population'] > 4].shape[0] / pop_df.shape[0]"
   ]
  },
  {
   "cell_type": "markdown",
   "metadata": {},
   "source": [
    "---"
   ]
  },
  {
   "cell_type": "markdown",
   "metadata": {},
   "source": [
    "### Final Model"
   ]
  },
  {
   "cell_type": "code",
   "execution_count": 64,
   "metadata": {},
   "outputs": [],
   "source": [
    "import numpy as np\n",
    "\n",
    "# X features from Latitude and Longitude\n",
    "pop = pop_df[pop_df['Population'] > 4].copy()\n",
    "X = pop[['Lat', 'Lon', 'Population']]\n",
    "\n",
    "# scale data\n",
    "ss = StandardScaler()\n",
    "X = ss.fit_transform(X)\n",
    "\n",
    "\n",
    "# fit kmeans model\n",
    "km = KMeans(n_clusters=28, random_state=510)\n",
    "km.fit(X)\n",
    "\n",
    "pop['clusters'] = km.labels_\n",
    "centroids = pop.groupby('clusters')[['Lat', 'Lon']].mean()"
   ]
  },
  {
   "cell_type": "code",
   "execution_count": 80,
   "metadata": {},
   "outputs": [
    {
     "data": {
      "text/html": [
       "<div>\n",
       "<style scoped>\n",
       "    .dataframe tbody tr th:only-of-type {\n",
       "        vertical-align: middle;\n",
       "    }\n",
       "\n",
       "    .dataframe tbody tr th {\n",
       "        vertical-align: top;\n",
       "    }\n",
       "\n",
       "    .dataframe thead th {\n",
       "        text-align: right;\n",
       "    }\n",
       "</style>\n",
       "<table border=\"1\" class=\"dataframe\">\n",
       "  <thead>\n",
       "    <tr style=\"text-align: right;\">\n",
       "      <th></th>\n",
       "      <th>Population</th>\n",
       "    </tr>\n",
       "    <tr>\n",
       "      <th>clusters</th>\n",
       "      <th></th>\n",
       "    </tr>\n",
       "  </thead>\n",
       "  <tbody>\n",
       "    <tr>\n",
       "      <th>12</th>\n",
       "      <td>521.097123</td>\n",
       "    </tr>\n",
       "    <tr>\n",
       "      <th>20</th>\n",
       "      <td>375.180868</td>\n",
       "    </tr>\n",
       "    <tr>\n",
       "      <th>2</th>\n",
       "      <td>270.542778</td>\n",
       "    </tr>\n",
       "    <tr>\n",
       "      <th>13</th>\n",
       "      <td>186.906127</td>\n",
       "    </tr>\n",
       "    <tr>\n",
       "      <th>23</th>\n",
       "      <td>123.269341</td>\n",
       "    </tr>\n",
       "    <tr>\n",
       "      <th>6</th>\n",
       "      <td>89.214281</td>\n",
       "    </tr>\n",
       "    <tr>\n",
       "      <th>11</th>\n",
       "      <td>81.746511</td>\n",
       "    </tr>\n",
       "    <tr>\n",
       "      <th>18</th>\n",
       "      <td>61.653474</td>\n",
       "    </tr>\n",
       "    <tr>\n",
       "      <th>14</th>\n",
       "      <td>42.249595</td>\n",
       "    </tr>\n",
       "    <tr>\n",
       "      <th>21</th>\n",
       "      <td>31.883960</td>\n",
       "    </tr>\n",
       "    <tr>\n",
       "      <th>1</th>\n",
       "      <td>23.766944</td>\n",
       "    </tr>\n",
       "    <tr>\n",
       "      <th>16</th>\n",
       "      <td>22.951393</td>\n",
       "    </tr>\n",
       "    <tr>\n",
       "      <th>0</th>\n",
       "      <td>13.384745</td>\n",
       "    </tr>\n",
       "    <tr>\n",
       "      <th>5</th>\n",
       "      <td>13.249545</td>\n",
       "    </tr>\n",
       "    <tr>\n",
       "      <th>8</th>\n",
       "      <td>11.840499</td>\n",
       "    </tr>\n",
       "    <tr>\n",
       "      <th>10</th>\n",
       "      <td>11.612038</td>\n",
       "    </tr>\n",
       "    <tr>\n",
       "      <th>27</th>\n",
       "      <td>10.902056</td>\n",
       "    </tr>\n",
       "    <tr>\n",
       "      <th>3</th>\n",
       "      <td>9.534588</td>\n",
       "    </tr>\n",
       "    <tr>\n",
       "      <th>26</th>\n",
       "      <td>8.762661</td>\n",
       "    </tr>\n",
       "    <tr>\n",
       "      <th>25</th>\n",
       "      <td>8.576788</td>\n",
       "    </tr>\n",
       "    <tr>\n",
       "      <th>17</th>\n",
       "      <td>8.421819</td>\n",
       "    </tr>\n",
       "    <tr>\n",
       "      <th>24</th>\n",
       "      <td>8.347612</td>\n",
       "    </tr>\n",
       "    <tr>\n",
       "      <th>15</th>\n",
       "      <td>7.645986</td>\n",
       "    </tr>\n",
       "    <tr>\n",
       "      <th>9</th>\n",
       "      <td>7.336330</td>\n",
       "    </tr>\n",
       "    <tr>\n",
       "      <th>4</th>\n",
       "      <td>6.843999</td>\n",
       "    </tr>\n",
       "    <tr>\n",
       "      <th>22</th>\n",
       "      <td>6.304768</td>\n",
       "    </tr>\n",
       "    <tr>\n",
       "      <th>7</th>\n",
       "      <td>6.280758</td>\n",
       "    </tr>\n",
       "    <tr>\n",
       "      <th>19</th>\n",
       "      <td>5.575023</td>\n",
       "    </tr>\n",
       "  </tbody>\n",
       "</table>\n",
       "</div>"
      ],
      "text/plain": [
       "          Population\n",
       "clusters            \n",
       "12        521.097123\n",
       "20        375.180868\n",
       "2         270.542778\n",
       "13        186.906127\n",
       "23        123.269341\n",
       "6          89.214281\n",
       "11         81.746511\n",
       "18         61.653474\n",
       "14         42.249595\n",
       "21         31.883960\n",
       "1          23.766944\n",
       "16         22.951393\n",
       "0          13.384745\n",
       "5          13.249545\n",
       "8          11.840499\n",
       "10         11.612038\n",
       "27         10.902056\n",
       "3           9.534588\n",
       "26          8.762661\n",
       "25          8.576788\n",
       "17          8.421819\n",
       "24          8.347612\n",
       "15          7.645986\n",
       "9           7.336330\n",
       "4           6.843999\n",
       "22          6.304768\n",
       "7           6.280758\n",
       "19          5.575023"
      ]
     },
     "execution_count": 80,
     "metadata": {},
     "output_type": "execute_result"
    }
   ],
   "source": [
    "pop.groupby('clusters')['Population'].mean().sort_values(ascending=False).to_frame()"
   ]
  },
  {
   "cell_type": "code",
   "execution_count": 79,
   "metadata": {},
   "outputs": [
    {
     "data": {
      "image/png": "[encoded data removed]",
      "text/plain": [
       "<Figure size 720x576 with 1 Axes>"
      ]
     },
     "metadata": {
      "needs_background": "light"
     },
     "output_type": "display_data"
    }
   ],
   "source": [
    "#Plot scatter by cluster / color, and centroids\n",
    "ax = pop.plot(    \n",
    "    kind=\"scatter\", \n",
    "    x='Lat', y='Lon',\n",
    "    figsize=(10,8),\n",
    "    c = km.labels_.astype(float)\n",
    ")\n",
    "\n",
    "plt.title('Clustering results (k = 28)', fontsize=20)\n",
    "plt.xlabel('Latitude', fontsize=12)\n",
    "plt.ylabel('Longitude', fontsize=12);"
   ]
  },
  {
   "cell_type": "markdown",
   "metadata": {},
   "source": [
    "---\n",
    "### Silhouette Score"
   ]
  },
  {
   "cell_type": "code",
   "execution_count": 61,
   "metadata": {},
   "outputs": [
    {
     "name": "stderr",
     "output_type": "stream",
     "text": [
      "/Users/aidandominguez/opt/anaconda3/lib/python3.6/site-packages/ipykernel_launcher.py:10: SettingWithCopyWarning: \n",
      "A value is trying to be set on a copy of a slice from a DataFrame.\n",
      "Try using .loc[row_indexer,col_indexer] = value instead\n",
      "\n",
      "See the caveats in the documentation: https://pandas.pydata.org/pandas-docs/stable/user_guide/indexing.html#returning-a-view-versus-a-copy\n",
      "  # Remove the CWD from sys.path while we load stuff.\n"
     ]
    },
    {
     "data": {
      "image/png": "[encoded data removed]",
      "text/plain": [
       "<Figure size 1008x504 with 1 Axes>"
      ]
     },
     "metadata": {
      "needs_background": "light"
     },
     "output_type": "display_data"
    }
   ],
   "source": [
    "scores = []\n",
    "\n",
    "pop_copy = pop.copy()\n",
    "pop_copy.drop(columns='clusters', inplace = True)\n",
    "X = pop[['Lat', 'Lon', 'Population']]\n",
    "\n",
    "for k in range(25, 30):\n",
    "    km = KMeans(n_clusters=k, random_state=510)\n",
    "    km.fit(X)\n",
    "    X['clusters'] = km.labels_\n",
    "    X = X.sample(20_000, random_state=510)\n",
    "    sil = silhouette_score(X.drop(columns='clusters'), X.clusters)\n",
    "    scores.append([k, sil])\n",
    "\n",
    "score_df = pd.DataFrame(scores)\n",
    "score_df.columns = ['k', 'silhouette']\n",
    "\n",
    "best_sil(score_df)"
   ]
  },
  {
   "cell_type": "markdown",
   "metadata": {},
   "source": [
    "---"
   ]
  },
  {
   "cell_type": "markdown",
   "metadata": {},
   "source": [
    "### Results"
   ]
  },
  {
   "cell_type": "code",
   "execution_count": null,
   "metadata": {},
   "outputs": [],
   "source": [
    "# pop_gt_4.groupby('clusters')[['Lat', 'Lon']].mean()"
   ]
  },
  {
   "cell_type": "code",
   "execution_count": null,
   "metadata": {},
   "outputs": [],
   "source": [
    "# pop_gt_4.groupby('clusters')['Population'].mean().sort_values(ascending=False)"
   ]
  },
  {
   "cell_type": "code",
   "execution_count": null,
   "metadata": {},
   "outputs": [],
   "source": [
    "pop.to_csv('./datasets/Nairobi_Area_Population_Clusters.csv')"
   ]
  }
 ],
 "metadata": {
  "kernelspec": {
   "display_name": "Python 3",
   "language": "python",
   "name": "python3"
  },
  "language_info": {
   "codemirror_mode": {
    "name": "ipython",
    "version": 3
   },
   "file_extension": ".py",
   "mimetype": "text/x-python",
   "name": "python",
   "nbconvert_exporter": "python",
   "pygments_lexer": "ipython3",
   "version": "3.6.9"
  }
 },
 "nbformat": 4,
 "nbformat_minor": 2
}
